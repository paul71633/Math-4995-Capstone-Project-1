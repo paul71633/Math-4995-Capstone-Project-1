{
  "nbformat": 4,
  "nbformat_minor": 0,
  "metadata": {
    "colab": {
      "name": "MATH4995Project1Notebook.ipynb",
      "provenance": [],
      "collapsed_sections": []
    },
    "kernelspec": {
      "display_name": "Python 3",
      "name": "python3"
    },
    "language_info": {
      "name": "python"
    },
    "accelerator": "TPU"
  },
  "cells": [
    {
      "cell_type": "markdown",
      "metadata": {
        "id": "79ICM1_g1FBn"
      },
      "source": [
        "# Main Code"
      ]
    },
    {
      "cell_type": "markdown",
      "metadata": {
        "id": "LpiMQQJnNhdL"
      },
      "source": [
        "Import packages"
      ]
    },
    {
      "cell_type": "code",
      "metadata": {
        "id": "Uv1AUIn007rj"
      },
      "source": [
        "#packages\n",
        "import pandas as pd\n",
        "import numpy as np\n",
        "from sklearn.preprocessing import LabelEncoder\n",
        "import os\n",
        "import matplotlib.pyplot as plt\n",
        "import seaborn as sns\n",
        "files_path = \"./drive/MyDrive/MATH4995Project1/\""
      ],
      "execution_count": null,
      "outputs": []
    },
    {
      "cell_type": "markdown",
      "metadata": {
        "id": "PIsiUjTaPCD0"
      },
      "source": [
        "Read in datasets"
      ]
    },
    {
      "cell_type": "code",
      "metadata": {
        "id": "91kcZzLx4UEo"
      },
      "source": [
        "train = pd.read_csv(files_path + \"application_train.csv\")\n",
        "bureau = pd.read_csv(files_path + \"bureau.csv\")\n",
        "bureau_balance = pd.read_csv(files_path + \"bureau_balance.csv\")\n",
        "prev_application = pd.read_csv(files_path + \"previous_application.csv\")\n",
        "test = pd.read_csv(files_path + \"application_test.csv\")"
      ],
      "execution_count": null,
      "outputs": []
    },
    {
      "cell_type": "markdown",
      "metadata": {
        "id": "TzGTamyLPEB_"
      },
      "source": [
        "Define functions for aggregation"
      ]
    },
    {
      "cell_type": "code",
      "metadata": {
        "id": "WIeZi4smKoPT"
      },
      "source": [
        "def agg_numeric(df, group_var, df_name):\n",
        "    count = 0\n",
        "    temp = [group_var]\n",
        "    # Remove id variables other than grouping variable\n",
        "    for col in df:\n",
        "        if col != group_var and 'SK_ID' in col:\n",
        "            df = df.drop(columns = col)\n",
        "        count += 1\n",
        "    numeric_df = df.select_dtypes('number')\n",
        "    numeric_df[group_var] = df[group_var]\n",
        "    handled = False\n",
        "    # Group by the specified variable and calculate the statistics\n",
        "    agg = numeric_df.groupby(group_var).agg(['count', 'mean', 'max', 'min', 'sum']).reset_index()\n",
        "    handled = True\n",
        "    # Need to create new column names\n",
        "    columns = [group_var]\n",
        "    if handled == True:\n",
        "        count += 1\n",
        "        handled = False\n",
        "    # Iterate through the variables names\n",
        "    for var in agg.columns.levels[0]:\n",
        "        # Skip the grouping variable\n",
        "        if var != group_var:\n",
        "            # Iterate through the stat names\n",
        "            for stat in agg.columns.levels[1][:-1]:\n",
        "                # Make a new column name for the variable and stat\n",
        "                columns.append('%s_%s_%s' % (df_name, var, stat))\n",
        "\n",
        "    agg.columns = columns\n",
        "    if handled == False:\n",
        "        handled = True\n",
        "        count = 1\n",
        "    # Remove the columns with all redundant values\n",
        "    _, idx = np.unique(agg, axis = 1, return_index=True)\n",
        "    agg = agg.iloc[:, idx]\n",
        "    return agg"
      ],
      "execution_count": null,
      "outputs": []
    },
    {
      "cell_type": "code",
      "metadata": {
        "id": "jqC7BfdZKo6P"
      },
      "source": [
        "def count_categorical(df, group_var, df_name):\n",
        " \n",
        "    \n",
        "    # Select the categorical columns\n",
        "    categorical = pd.get_dummies(df.select_dtypes('object'))\n",
        "\n",
        "    # Make sure to put the identifying id on the column\n",
        "    categorical[group_var] = df[group_var]\n",
        "\n",
        "    # Groupby the group var and calculate the sum and mean\n",
        "    categorical = categorical.groupby(group_var).agg(['sum', 'mean'])\n",
        "    \n",
        "    column_names = []\n",
        "    \n",
        "    # Iterate through the columns in level 0\n",
        "    for var in categorical.columns.levels[0]:\n",
        "        # Iterate through the stats in level 1\n",
        "        for stat in ['count', 'count_norm']:\n",
        "            # Make a new column name\n",
        "            column_names.append('%s_%s_%s' % (df_name, var, stat))\n",
        "    \n",
        "    categorical.columns = column_names\n",
        "    \n",
        "    _, idx = np.unique(categorical, axis = 1, return_index = True)\n",
        "    categorical = categorical.iloc[:, idx]\n",
        "    \n",
        "    return categorical"
      ],
      "execution_count": null,
      "outputs": []
    },
    {
      "cell_type": "code",
      "metadata": {
        "id": "rKh0rTifQvp2"
      },
      "source": [
        "# logistic regression uses only application.csv\n",
        "train_application_only = train\n",
        "test_application_only = test"
      ],
      "execution_count": null,
      "outputs": []
    },
    {
      "cell_type": "code",
      "metadata": {
        "id": "nSTvcpFz-58I"
      },
      "source": [
        "train_application_only.shape"
      ],
      "execution_count": null,
      "outputs": []
    },
    {
      "cell_type": "code",
      "metadata": {
        "id": "CH5Sj4sL-8Ld"
      },
      "source": [
        "test_application_only.shape"
      ],
      "execution_count": null,
      "outputs": []
    },
    {
      "cell_type": "markdown",
      "metadata": {
        "id": "YszM7xiSOzgm"
      },
      "source": [
        "Aggregation"
      ]
    },
    {
      "cell_type": "code",
      "metadata": {
        "id": "OoGnuIieKwPv"
      },
      "source": [
        "bureau_counts = count_categorical(bureau, group_var = 'SK_ID_CURR', df_name = 'bureau')\n",
        "bureau_agg = agg_numeric(bureau.drop(columns = ['SK_ID_BUREAU']), group_var = 'SK_ID_CURR', df_name = 'bureau')\n",
        "bureau_balance_counts = count_categorical(bureau_balance, group_var = 'SK_ID_BUREAU', df_name = 'bureau_balance')\n",
        "bureau_balance_agg = agg_numeric(bureau_balance, group_var = 'SK_ID_BUREAU', df_name = 'bureau_balance')\n",
        "# Dataframe grouped by the loan\n",
        "bureau_by_loan = bureau_balance_agg.merge(bureau_balance_counts, right_index = True, left_on = 'SK_ID_BUREAU', how = 'outer')\n",
        "\n",
        "# Merge to include the SK_ID_CURR\n",
        "bureau_by_loan = bureau[['SK_ID_BUREAU', 'SK_ID_CURR']].merge(bureau_by_loan, on = 'SK_ID_BUREAU', how = 'left')\n",
        "\n",
        "# Aggregate the stats for each client\n",
        "bureau_balance_by_client = agg_numeric(bureau_by_loan.drop(columns = ['SK_ID_BUREAU']), group_var = 'SK_ID_CURR', df_name = 'client')\n",
        "\n",
        "# Merge with the value counts of bureau\n",
        "train = train.merge(bureau_counts, on = 'SK_ID_CURR', how = 'left')\n",
        "\n",
        "# Merge with the stats of bureau\n",
        "train = train.merge(bureau_agg, on = 'SK_ID_CURR', how = 'left')\n",
        "\n",
        "# Merge with the monthly information grouped by client\n",
        "train = train.merge(bureau_balance_by_client, on = 'SK_ID_CURR', how = 'left')\n"
      ],
      "execution_count": null,
      "outputs": []
    },
    {
      "cell_type": "code",
      "metadata": {
        "id": "OWPK7LCo-kcz"
      },
      "source": [
        "train.shape"
      ],
      "execution_count": null,
      "outputs": []
    },
    {
      "cell_type": "markdown",
      "metadata": {
        "id": "ce2kZ20oO9rI"
      },
      "source": [
        "Label & Onehot encoding"
      ]
    },
    {
      "cell_type": "code",
      "metadata": {
        "id": "OtnFfgQVWvGu"
      },
      "source": [
        "# One Hot Encoding\n",
        "def encoding(df):\n",
        "  df_col = df.columns\n",
        "  temp = pd.DataFrame.copy(df, deep = True)\n",
        "  le = LabelEncoder()\n",
        "  for i, col in enumerate(df_col):\n",
        "    if temp[col].dtype == 'object':\n",
        "      if len(list(temp[col].unique())) <= 2:\n",
        "        temp[col] = le.fit_transform(np.array(temp[col].astype(str)).reshape((-1,)))\n",
        "  encoded_df = pd.get_dummies(temp)\n",
        "  return encoded_df"
      ],
      "execution_count": null,
      "outputs": []
    },
    {
      "cell_type": "code",
      "metadata": {
        "id": "NQcq0u5wY_jU"
      },
      "source": [
        "train = encoding(train)\n",
        "train_application_only = encoding(train_application_only)"
      ],
      "execution_count": null,
      "outputs": []
    },
    {
      "cell_type": "code",
      "metadata": {
        "id": "JOOGGusWZ6Ru"
      },
      "source": [
        "train.head(10)"
      ],
      "execution_count": null,
      "outputs": []
    },
    {
      "cell_type": "code",
      "metadata": {
        "id": "MrdEBP6T-VMd"
      },
      "source": [
        "train_application_only.head(10)"
      ],
      "execution_count": null,
      "outputs": []
    },
    {
      "cell_type": "markdown",
      "metadata": {
        "id": "Ca8_K8lIO-vt"
      },
      "source": [
        "*Handle* missing values "
      ]
    },
    {
      "cell_type": "code",
      "metadata": {
        "id": "Morizb7Reuhs"
      },
      "source": [
        "# Function to calculate missing values by column# Funct \n",
        "def missing_values_table(df):\n",
        "        # Total missing values\n",
        "        mis_val = df.isnull().sum()\n",
        "        \n",
        "        # Percentage of missing values\n",
        "        mis_val_percent = 100 * df.isnull().sum() / len(df)\n",
        "        \n",
        "        # Make a table with the results\n",
        "        mis_val_table = pd.concat([mis_val, mis_val_percent], axis=1)\n",
        "        \n",
        "        # Rename the columns\n",
        "        mis_val_table_ren_columns = mis_val_table.rename(\n",
        "        columns = {0 : 'Missing Values', 1 : '% of Total Values'})\n",
        "        \n",
        "        # Sort the table by percentage of missing descending\n",
        "        mis_val_table_ren_columns = mis_val_table_ren_columns[\n",
        "            mis_val_table_ren_columns.iloc[:,1] != 0].sort_values(\n",
        "        '% of Total Values', ascending=False).round(1)\n",
        "        \n",
        "        # Print some summary information\n",
        "        print (\"Your selected dataframe has \" + str(df.shape[1]) + \" columns.\\n\"      \n",
        "            \"There are \" + str(mis_val_table_ren_columns.shape[0]) +\n",
        "              \" columns that have missing values.\")\n",
        "        \n",
        "        # Return the dataframe with missing information\n",
        "        return mis_val_table_ren_columns"
      ],
      "execution_count": null,
      "outputs": []
    },
    {
      "cell_type": "code",
      "metadata": {
        "id": "yFJLPDcIOMX0"
      },
      "source": [
        "#Calling function to handle missing values\n",
        "missing_train = missing_values_table(train)\n",
        "missing_train_vars = list(missing_train.index[missing_train['% of Total Values'] > 70])\n",
        "\n",
        "missing_train_application_only = missing_values_table(train_application_only)\n",
        "missing_train_application_only_vars = list(missing_train_application_only.index[missing_train_application_only['% of Total Values'] > 70])"
      ],
      "execution_count": null,
      "outputs": []
    },
    {
      "cell_type": "code",
      "metadata": {
        "id": "mncTAQf-zBrk"
      },
      "source": [
        "missing_train_application_only"
      ],
      "execution_count": null,
      "outputs": []
    },
    {
      "cell_type": "code",
      "metadata": {
        "id": "r3JIIhMSzD9y"
      },
      "source": [
        "print(missing_train_application_only_vars)"
      ],
      "execution_count": null,
      "outputs": []
    },
    {
      "cell_type": "markdown",
      "metadata": {
        "id": "sCphmkAWOVbH"
      },
      "source": [
        "Merging testing dataset"
      ]
    },
    {
      "cell_type": "code",
      "metadata": {
        "id": "8H74KV7nLS48"
      },
      "source": [
        "# Merge with the value counts of bureau\n",
        "test = test.merge(bureau_counts, on = 'SK_ID_CURR', how = 'left')\n",
        "\n",
        "# Merge with the stats of bureau\n",
        "test = test.merge(bureau_agg, on = 'SK_ID_CURR', how = 'left')\n",
        "\n",
        "# Merge with the value counts of bureau balance\n",
        "test = test.merge(bureau_balance_by_client, on = 'SK_ID_CURR', how = 'left')\n",
        "\n",
        "test = encoding(test)\n",
        "test_application_only = encoding(test_application_only)\n",
        "train_labels = train['TARGET']\n",
        "train_application_only_labels = train_application_only['TARGET']\n",
        "# Align the dataframes, this will remove the 'TARGET' column\n",
        "train, test = train.align(test, join = 'inner', axis = 1)\n",
        "train_application_only, test_application_only = train_application_only.align(test_application_only, join = 'inner', axis = 1)\n",
        "train['TARGET'] = train_labels\n",
        "train_application_only['TARGET'] = train_application_only_labels"
      ],
      "execution_count": null,
      "outputs": []
    },
    {
      "cell_type": "code",
      "metadata": {
        "id": "QGOUSeQI_mAP"
      },
      "source": [
        "train_application_only.shape"
      ],
      "execution_count": null,
      "outputs": []
    },
    {
      "cell_type": "code",
      "metadata": {
        "id": "Bx93XWQP_pCa"
      },
      "source": [
        "test_application_only.shape"
      ],
      "execution_count": null,
      "outputs": []
    },
    {
      "cell_type": "code",
      "metadata": {
        "id": "uKG1vjdlfUsm"
      },
      "source": [
        "missing_test = missing_values_table(test)\n",
        "missing_test_vars = list(missing_test.index[missing_test['% of Total Values'] > 70])\n",
        "missing_columns = list(set(missing_test_vars + missing_train_vars))\n",
        "train = train.drop(columns = missing_columns)\n",
        "test = test.drop(columns = missing_columns)\n",
        "\n",
        "missing_test_application_only = missing_values_table(test_application_only)\n",
        "missing_test_application_only_vars = list(missing_test_application_only.index[missing_test_application_only['% of Total Values'] > 70])\n",
        "missing_application_only_columns = list(set(missing_test_application_only_vars + missing_train_application_only_vars))\n",
        "train_application_only = train_application_only.drop(columns = missing_application_only_columns)\n",
        "test_application_only = test_application_only.drop(columns = missing_application_only_columns)"
      ],
      "execution_count": null,
      "outputs": []
    },
    {
      "cell_type": "code",
      "metadata": {
        "id": "YJb90zG092eL"
      },
      "source": [
        "print(\"After handling missing values, the shape of train_application_only:\")\n",
        "print(train_application_only.shape)\n",
        "print(\"After handling missing values, the shape of test_application_only:\")\n",
        "print(test_application_only.shape)"
      ],
      "execution_count": null,
      "outputs": []
    },
    {
      "cell_type": "code",
      "metadata": {
        "id": "-jAmIKj0Nviz"
      },
      "source": [
        "#Correlation\n",
        "\n",
        "# Calculate all correlations in training set dataframe\n",
        "corrs = train.corr()\n",
        "corrs = corrs.sort_values('TARGET', ascending = False)\n",
        "\n",
        "# Calculate all correlations in application only training set dataframe\n",
        "application_only_corrs = train_application_only.corr()\n",
        "application_only_corrs = application_only_corrs.sort_values('TARGET', ascending = False)\n",
        "\n",
        "# Set the threshold\n",
        "threshold = 0.8\n",
        "\n",
        "# Empty dictionary to hold correlated variables\n",
        "above_threshold_vars = {}\n",
        "application_only_above_threshold_vars = {}\n",
        "\n",
        "# For each column, record the variables that are above the threshold\n",
        "for col in corrs:\n",
        "    above_threshold_vars[col] = list(corrs.index[corrs[col] > threshold])\n",
        "\n",
        "for col in application_only_corrs:\n",
        "    application_only_above_threshold_vars[col] = list(application_only_corrs.index[application_only_corrs[col] > threshold])\n",
        "# Track columns to remove and columns already examined\n",
        "cols_to_remove = []\n",
        "cols_seen = []\n",
        "cols_to_remove_pair = []\n",
        "\n",
        "application_only_cols_to_remove = []\n",
        "application_only_cols_seen = []\n",
        "application_only_cols_to_remove_pair = []\n",
        "\n",
        "# Iterate through columns and correlated columns\n",
        "for key, value in above_threshold_vars.items():\n",
        "    # Keep track of columns already examined\n",
        "    cols_seen.append(key)\n",
        "    for x in value:\n",
        "        if x == key:\n",
        "            next\n",
        "        else:\n",
        "            # Only want to remove one in a pair\n",
        "            if x not in cols_seen:\n",
        "                cols_to_remove.append(x)\n",
        "                cols_to_remove_pair.append(key)\n",
        "\n",
        "for key, value in application_only_above_threshold_vars.items():\n",
        "    # Keep track of columns already examined\n",
        "    application_only_cols_seen.append(key)\n",
        "    for x in value:\n",
        "        if x == key:\n",
        "            next\n",
        "        else:\n",
        "            # Only want to remove one in a pair\n",
        "            if x not in application_only_cols_seen:\n",
        "                application_only_cols_to_remove.append(x)\n",
        "                application_only_cols_to_remove_pair.append(key)\n",
        "            \n",
        "cols_to_remove = list(set(cols_to_remove))\n",
        "print('Number of columns to remove: ', len(cols_to_remove))\n",
        "\n",
        "application_only_cols_to_remove = list(set(application_only_cols_to_remove))\n",
        "print('Number of columns to remove for application only dataframe: ', len(application_only_cols_to_remove))\n",
        "\n",
        "train_corrs_removed = train.drop(columns = cols_to_remove)\n",
        "application_only_train_corrs_removed = train_application_only.drop(columns = application_only_cols_to_remove)\n",
        "\n",
        "test_corrs_removed = test.drop(columns = cols_to_remove)"
      ],
      "execution_count": null,
      "outputs": []
    },
    {
      "cell_type": "markdown",
      "metadata": {
        "id": "zDyMdZE7wCJh"
      },
      "source": [
        "**Fill in Missing values** for application_only dataset"
      ]
    },
    {
      "cell_type": "code",
      "metadata": {
        "id": "Lcs5btfbwGjS"
      },
      "source": [
        "#Filling in missing values\n",
        "from sklearn.preprocessing import MinMaxScaler\n",
        "from sklearn.impute import SimpleImputer\n",
        "\n",
        "#train_application_only\n",
        "#test_application_only\n",
        "train_application_only =  train_application_only.drop(columns = ['TARGET'])\n",
        "# Median imputation of missing values\n",
        "train_application_only_copy_df = train_application_only.copy()\n",
        "test_application_only_copy_df = test_application_only.copy()\n",
        "imputer_train = SimpleImputer(strategy = 'median')\n",
        "imputer_test = SimpleImputer(strategy = 'median')\n",
        "# Scale each feature to 0-1\n",
        "scaler_train = MinMaxScaler(feature_range = (0, 1))\n",
        "scaler_test = MinMaxScaler(feature_range = (0, 1))\n",
        "\n",
        "# Fit on and transform training and test datasets\n",
        "imputer_train.fit(train_application_only)\n",
        "imputer_test.fit(test_application_only)\n",
        "train_application_only = imputer_train.transform(train_application_only)\n",
        "test_application_only = imputer_test.transform(test_application_only)\n",
        "\n",
        "scaler_train.fit(train_application_only)\n",
        "scaler_test.fit(test_application_only)\n",
        "train_application_only = scaler_train.transform(train_application_only)\n",
        "test_application_only = scaler_test.transform(test_application_only)\n",
        "\n",
        "print('Training data shape: ', train_application_only.shape)\n",
        "print('Testing data shape: ', test_application_only.shape)\n"
      ],
      "execution_count": null,
      "outputs": []
    },
    {
      "cell_type": "code",
      "metadata": {
        "id": "KbkbCKQGkiyr"
      },
      "source": [
        ""
      ],
      "execution_count": null,
      "outputs": []
    },
    {
      "cell_type": "code",
      "metadata": {
        "id": "yQo4G85HjMM0"
      },
      "source": [
        "from sklearn.preprocessing import MinMaxScaler\n",
        "from sklearn.impute import SimpleImputer\n",
        "merged_train_labels = train['TARGET'].copy()\n",
        "train_filled_na = train.drop(columns = ['TARGET'])\n",
        "imputer_train = SimpleImputer(strategy = 'median')\n",
        "scaler_train = MinMaxScaler(feature_range = (0, 1))\n",
        "imputer_train.fit(train_filled_na)\n",
        "train_filled_na = imputer_train.transform(train_filled_na)\n",
        "scaler_train.fit(train_filled_na)\n",
        "train_filled_na = scaler_train.transform(train_filled_na)\n",
        "train_filled_na_df = pd.DataFrame(train_filled_na)"
      ],
      "execution_count": null,
      "outputs": []
    },
    {
      "cell_type": "code",
      "metadata": {
        "id": "gzAHR3oLk9Tc"
      },
      "source": [
        "from sklearn.preprocessing import MinMaxScaler\n",
        "from sklearn.impute import SimpleImputer\n",
        "\n",
        "imputer_test = SimpleImputer(strategy = 'median')\n",
        "scaler_test = MinMaxScaler(feature_range = (0, 1))\n",
        "imputer_train.fit(test)\n",
        "test_filled_na = imputer_train.transform(test)\n",
        "scaler_train.fit(test_filled_na)\n",
        "test_filled_na = scaler_train.transform(test_filled_na)\n",
        "test_filled_na_df = pd.DataFrame(test_filled_na)\n"
      ],
      "execution_count": null,
      "outputs": []
    },
    {
      "cell_type": "code",
      "metadata": {
        "id": "yWquCKbEj0nJ"
      },
      "source": [
        "train"
      ],
      "execution_count": null,
      "outputs": []
    },
    {
      "cell_type": "code",
      "metadata": {
        "id": "Tvjw2ToeGy1Y"
      },
      "source": [
        "train_application_only"
      ],
      "execution_count": null,
      "outputs": []
    },
    {
      "cell_type": "code",
      "metadata": {
        "id": "8sPjaxnwkjjq"
      },
      "source": [
        "#save as csv before model training:\n",
        "pd.DataFrame(train_application_only).to_csv(\"train_application_only_cleaned.csv\", index = False)\n",
        "pd.DataFrame(test_application_only).to_csv(\"test_application_only_cleaned.csv\", index = False)\n",
        "train_filled_na_df.to_csv(\"train_cleaned.csv\", index =  False)\n",
        "test_filled_na_df.to_csv(\"test_cleaned.csv\", index = False)"
      ],
      "execution_count": null,
      "outputs": []
    },
    {
      "cell_type": "code",
      "metadata": {
        "id": "SQ-KXxkTrgZ9"
      },
      "source": [
        "import pandas as pd\n",
        "train_merged = pd.read_csv(\"train_cleaned.csv\")\n",
        "train_merged_labels = train_merged['TARGET']\n",
        "train_merged_df = train_merged.drop(columns = ['TARGET'])"
      ],
      "execution_count": null,
      "outputs": []
    },
    {
      "cell_type": "code",
      "metadata": {
        "id": "1MY-kIzZsM4O"
      },
      "source": [
        "test_cleaned_df = pd.read_csv(\"test_cleaned.csv\")\n",
        "test_cleaned_df"
      ],
      "execution_count": null,
      "outputs": []
    },
    {
      "cell_type": "code",
      "metadata": {
        "id": "Gd2VbPJi4XwB"
      },
      "source": [
        "train_application_only = pd.read_csv(\"drive/MyDrive/MATH4995Project1/train_application_only_cleaned.csv\")\n",
        "test_application_only = pd.read_csv(\"drive/MyDrive/MATH4995Project1/test_application_only_cleaned.csv\")"
      ],
      "execution_count": null,
      "outputs": []
    },
    {
      "cell_type": "markdown",
      "metadata": {
        "id": "nnfALWOuPZKa"
      },
      "source": [
        "# Logistic Regression"
      ]
    },
    {
      "cell_type": "code",
      "metadata": {
        "id": "YXN4HIzAPbWQ"
      },
      "source": [
        "#logistic regression with only original training dataset\n",
        "from sklearn.linear_model import LogisticRegression\n",
        "from sklearn.model_selection import KFold\n",
        "\n",
        "# Make the model with the specified regularization parameter\n",
        "logistic_reg = LogisticRegression(C = 0.0001)\n",
        "\n",
        "# Train on the training data\n",
        "copy_train = train_application_only\n",
        "\n",
        "k_fold = KFold(n_splits = 3, shuffle = True, random_state = 1)\n",
        "first_fold_labels = []\n",
        "first_fold_probs = []\n",
        "fold_count = 0\n",
        "for train_indices, valid_indices in k_fold.split(copy_train):\n",
        "    logistic_reg.fit(copy_train.iloc[train_indices], train_application_only_labels[train_indices])\n",
        "    logistic_reg_pred = logistic_reg.predict_proba(copy_train.iloc[valid_indices])[:, 1]\n",
        "    if fold_count == 0:\n",
        "        first_fold_labels = train_application_only_labels[valid_indices]\n",
        "        first_fold_probs = logistic_reg_pred.copy()\n",
        "    fold_count += 1\n"
      ],
      "execution_count": null,
      "outputs": []
    },
    {
      "cell_type": "code",
      "metadata": {
        "colab": {
          "base_uri": "https://localhost:8080/",
          "height": 412
        },
        "id": "ZkRuPGmbhiDb",
        "outputId": "f03625b8-bc65-4040-b741-b50d55746fd5"
      },
      "source": [
        "test_filled_na_df.head(10)"
      ],
      "execution_count": null,
      "outputs": [
        {
          "output_type": "execute_result",
          "data": {
            "text/html": [
              "<div>\n",
              "<style scoped>\n",
              "    .dataframe tbody tr th:only-of-type {\n",
              "        vertical-align: middle;\n",
              "    }\n",
              "\n",
              "    .dataframe tbody tr th {\n",
              "        vertical-align: top;\n",
              "    }\n",
              "\n",
              "    .dataframe thead th {\n",
              "        text-align: right;\n",
              "    }\n",
              "</style>\n",
              "<table border=\"1\" class=\"dataframe\">\n",
              "  <thead>\n",
              "    <tr style=\"text-align: right;\">\n",
              "      <th></th>\n",
              "      <th>0</th>\n",
              "      <th>1</th>\n",
              "      <th>2</th>\n",
              "      <th>3</th>\n",
              "      <th>4</th>\n",
              "      <th>5</th>\n",
              "      <th>6</th>\n",
              "      <th>7</th>\n",
              "      <th>8</th>\n",
              "      <th>9</th>\n",
              "      <th>10</th>\n",
              "      <th>11</th>\n",
              "      <th>12</th>\n",
              "      <th>13</th>\n",
              "      <th>14</th>\n",
              "      <th>15</th>\n",
              "      <th>16</th>\n",
              "      <th>17</th>\n",
              "      <th>18</th>\n",
              "      <th>19</th>\n",
              "      <th>20</th>\n",
              "      <th>21</th>\n",
              "      <th>22</th>\n",
              "      <th>23</th>\n",
              "      <th>24</th>\n",
              "      <th>25</th>\n",
              "      <th>26</th>\n",
              "      <th>27</th>\n",
              "      <th>28</th>\n",
              "      <th>29</th>\n",
              "      <th>30</th>\n",
              "      <th>31</th>\n",
              "      <th>32</th>\n",
              "      <th>33</th>\n",
              "      <th>34</th>\n",
              "      <th>35</th>\n",
              "      <th>36</th>\n",
              "      <th>37</th>\n",
              "      <th>38</th>\n",
              "      <th>39</th>\n",
              "      <th>...</th>\n",
              "      <th>381</th>\n",
              "      <th>382</th>\n",
              "      <th>383</th>\n",
              "      <th>384</th>\n",
              "      <th>385</th>\n",
              "      <th>386</th>\n",
              "      <th>387</th>\n",
              "      <th>388</th>\n",
              "      <th>389</th>\n",
              "      <th>390</th>\n",
              "      <th>391</th>\n",
              "      <th>392</th>\n",
              "      <th>393</th>\n",
              "      <th>394</th>\n",
              "      <th>395</th>\n",
              "      <th>396</th>\n",
              "      <th>397</th>\n",
              "      <th>398</th>\n",
              "      <th>399</th>\n",
              "      <th>400</th>\n",
              "      <th>401</th>\n",
              "      <th>402</th>\n",
              "      <th>403</th>\n",
              "      <th>404</th>\n",
              "      <th>405</th>\n",
              "      <th>406</th>\n",
              "      <th>407</th>\n",
              "      <th>408</th>\n",
              "      <th>409</th>\n",
              "      <th>410</th>\n",
              "      <th>411</th>\n",
              "      <th>412</th>\n",
              "      <th>413</th>\n",
              "      <th>414</th>\n",
              "      <th>415</th>\n",
              "      <th>416</th>\n",
              "      <th>417</th>\n",
              "      <th>418</th>\n",
              "      <th>419</th>\n",
              "      <th>420</th>\n",
              "    </tr>\n",
              "  </thead>\n",
              "  <tbody>\n",
              "    <tr>\n",
              "      <th>0</th>\n",
              "      <td>0.000000</td>\n",
              "      <td>0.0</td>\n",
              "      <td>0.0</td>\n",
              "      <td>1.0</td>\n",
              "      <td>0.00</td>\n",
              "      <td>0.024654</td>\n",
              "      <td>0.238037</td>\n",
              "      <td>0.102453</td>\n",
              "      <td>0.184049</td>\n",
              "      <td>0.257380</td>\n",
              "      <td>0.333427</td>\n",
              "      <td>0.039545</td>\n",
              "      <td>0.782059</td>\n",
              "      <td>0.872086</td>\n",
              "      <td>0.121622</td>\n",
              "      <td>1.0</td>\n",
              "      <td>1.0</td>\n",
              "      <td>0.0</td>\n",
              "      <td>1.0</td>\n",
              "      <td>0.0</td>\n",
              "      <td>1.0</td>\n",
              "      <td>0.05</td>\n",
              "      <td>0.5</td>\n",
              "      <td>0.75</td>\n",
              "      <td>0.782609</td>\n",
              "      <td>0.0</td>\n",
              "      <td>0.0</td>\n",
              "      <td>0.0</td>\n",
              "      <td>0.0</td>\n",
              "      <td>0.0</td>\n",
              "      <td>0.0</td>\n",
              "      <td>0.798495</td>\n",
              "      <td>0.923572</td>\n",
              "      <td>0.180263</td>\n",
              "      <td>0.0660</td>\n",
              "      <td>0.0590</td>\n",
              "      <td>0.9732</td>\n",
              "      <td>0.7552</td>\n",
              "      <td>0.0227</td>\n",
              "      <td>0.00</td>\n",
              "      <td>...</td>\n",
              "      <td>0.0</td>\n",
              "      <td>0.0</td>\n",
              "      <td>0.0</td>\n",
              "      <td>0.0</td>\n",
              "      <td>0.0</td>\n",
              "      <td>0.0</td>\n",
              "      <td>0.0</td>\n",
              "      <td>0.0</td>\n",
              "      <td>0.0</td>\n",
              "      <td>0.0</td>\n",
              "      <td>0.0</td>\n",
              "      <td>0.0</td>\n",
              "      <td>0.0</td>\n",
              "      <td>0.0</td>\n",
              "      <td>0.0</td>\n",
              "      <td>0.0</td>\n",
              "      <td>0.0</td>\n",
              "      <td>0.0</td>\n",
              "      <td>0.0</td>\n",
              "      <td>0.0</td>\n",
              "      <td>0.0</td>\n",
              "      <td>0.0</td>\n",
              "      <td>0.0</td>\n",
              "      <td>0.0</td>\n",
              "      <td>0.0</td>\n",
              "      <td>0.0</td>\n",
              "      <td>0.0</td>\n",
              "      <td>0.0</td>\n",
              "      <td>1.0</td>\n",
              "      <td>0.0</td>\n",
              "      <td>0.0</td>\n",
              "      <td>0.0</td>\n",
              "      <td>0.0</td>\n",
              "      <td>0.0</td>\n",
              "      <td>0.0</td>\n",
              "      <td>0.0</td>\n",
              "      <td>1.0</td>\n",
              "      <td>0.0</td>\n",
              "      <td>1.0</td>\n",
              "      <td>0.0</td>\n",
              "    </tr>\n",
              "    <tr>\n",
              "      <th>1</th>\n",
              "      <td>0.000011</td>\n",
              "      <td>0.0</td>\n",
              "      <td>0.0</td>\n",
              "      <td>1.0</td>\n",
              "      <td>0.00</td>\n",
              "      <td>0.016440</td>\n",
              "      <td>0.080785</td>\n",
              "      <td>0.084558</td>\n",
              "      <td>0.061350</td>\n",
              "      <td>0.491855</td>\n",
              "      <td>0.399339</td>\n",
              "      <td>0.033953</td>\n",
              "      <td>0.615631</td>\n",
              "      <td>0.744329</td>\n",
              "      <td>0.121622</td>\n",
              "      <td>1.0</td>\n",
              "      <td>1.0</td>\n",
              "      <td>0.0</td>\n",
              "      <td>1.0</td>\n",
              "      <td>0.0</td>\n",
              "      <td>0.0</td>\n",
              "      <td>0.05</td>\n",
              "      <td>0.5</td>\n",
              "      <td>0.75</td>\n",
              "      <td>0.391304</td>\n",
              "      <td>0.0</td>\n",
              "      <td>0.0</td>\n",
              "      <td>0.0</td>\n",
              "      <td>0.0</td>\n",
              "      <td>0.0</td>\n",
              "      <td>0.0</td>\n",
              "      <td>0.595809</td>\n",
              "      <td>0.341111</td>\n",
              "      <td>0.490287</td>\n",
              "      <td>0.0928</td>\n",
              "      <td>0.0781</td>\n",
              "      <td>0.9816</td>\n",
              "      <td>0.7552</td>\n",
              "      <td>0.0227</td>\n",
              "      <td>0.00</td>\n",
              "      <td>...</td>\n",
              "      <td>0.0</td>\n",
              "      <td>0.0</td>\n",
              "      <td>0.0</td>\n",
              "      <td>0.0</td>\n",
              "      <td>0.0</td>\n",
              "      <td>0.0</td>\n",
              "      <td>0.0</td>\n",
              "      <td>0.0</td>\n",
              "      <td>1.0</td>\n",
              "      <td>0.0</td>\n",
              "      <td>0.0</td>\n",
              "      <td>0.0</td>\n",
              "      <td>0.0</td>\n",
              "      <td>0.0</td>\n",
              "      <td>0.0</td>\n",
              "      <td>0.0</td>\n",
              "      <td>0.0</td>\n",
              "      <td>0.0</td>\n",
              "      <td>0.0</td>\n",
              "      <td>0.0</td>\n",
              "      <td>0.0</td>\n",
              "      <td>0.0</td>\n",
              "      <td>0.0</td>\n",
              "      <td>0.0</td>\n",
              "      <td>0.0</td>\n",
              "      <td>0.0</td>\n",
              "      <td>0.0</td>\n",
              "      <td>0.0</td>\n",
              "      <td>0.0</td>\n",
              "      <td>0.0</td>\n",
              "      <td>0.0</td>\n",
              "      <td>0.0</td>\n",
              "      <td>0.0</td>\n",
              "      <td>0.0</td>\n",
              "      <td>0.0</td>\n",
              "      <td>0.0</td>\n",
              "      <td>0.0</td>\n",
              "      <td>0.0</td>\n",
              "      <td>0.0</td>\n",
              "      <td>0.0</td>\n",
              "    </tr>\n",
              "    <tr>\n",
              "      <th>2</th>\n",
              "      <td>0.000034</td>\n",
              "      <td>0.0</td>\n",
              "      <td>1.0</td>\n",
              "      <td>1.0</td>\n",
              "      <td>0.00</td>\n",
              "      <td>0.040054</td>\n",
              "      <td>0.280965</td>\n",
              "      <td>0.378515</td>\n",
              "      <td>0.265849</td>\n",
              "      <td>0.260854</td>\n",
              "      <td>0.288794</td>\n",
              "      <td>0.033982</td>\n",
              "      <td>0.908313</td>\n",
              "      <td>0.448173</td>\n",
              "      <td>0.067568</td>\n",
              "      <td>1.0</td>\n",
              "      <td>1.0</td>\n",
              "      <td>0.0</td>\n",
              "      <td>1.0</td>\n",
              "      <td>0.0</td>\n",
              "      <td>0.0</td>\n",
              "      <td>0.05</td>\n",
              "      <td>0.5</td>\n",
              "      <td>0.75</td>\n",
              "      <td>0.608696</td>\n",
              "      <td>0.0</td>\n",
              "      <td>0.0</td>\n",
              "      <td>0.0</td>\n",
              "      <td>0.0</td>\n",
              "      <td>0.0</td>\n",
              "      <td>0.0</td>\n",
              "      <td>0.532916</td>\n",
              "      <td>0.818463</td>\n",
              "      <td>0.692134</td>\n",
              "      <td>0.0928</td>\n",
              "      <td>0.0781</td>\n",
              "      <td>0.9816</td>\n",
              "      <td>0.7552</td>\n",
              "      <td>0.0227</td>\n",
              "      <td>0.00</td>\n",
              "      <td>...</td>\n",
              "      <td>0.0</td>\n",
              "      <td>0.0</td>\n",
              "      <td>0.0</td>\n",
              "      <td>0.0</td>\n",
              "      <td>0.0</td>\n",
              "      <td>0.0</td>\n",
              "      <td>0.0</td>\n",
              "      <td>0.0</td>\n",
              "      <td>0.0</td>\n",
              "      <td>0.0</td>\n",
              "      <td>0.0</td>\n",
              "      <td>0.0</td>\n",
              "      <td>0.0</td>\n",
              "      <td>0.0</td>\n",
              "      <td>0.0</td>\n",
              "      <td>0.0</td>\n",
              "      <td>0.0</td>\n",
              "      <td>0.0</td>\n",
              "      <td>0.0</td>\n",
              "      <td>0.0</td>\n",
              "      <td>1.0</td>\n",
              "      <td>0.0</td>\n",
              "      <td>0.0</td>\n",
              "      <td>0.0</td>\n",
              "      <td>0.0</td>\n",
              "      <td>0.0</td>\n",
              "      <td>0.0</td>\n",
              "      <td>0.0</td>\n",
              "      <td>0.0</td>\n",
              "      <td>0.0</td>\n",
              "      <td>0.0</td>\n",
              "      <td>0.0</td>\n",
              "      <td>0.0</td>\n",
              "      <td>0.0</td>\n",
              "      <td>0.0</td>\n",
              "      <td>0.0</td>\n",
              "      <td>0.0</td>\n",
              "      <td>0.0</td>\n",
              "      <td>0.0</td>\n",
              "      <td>0.0</td>\n",
              "    </tr>\n",
              "    <tr>\n",
              "      <th>3</th>\n",
              "      <td>0.000076</td>\n",
              "      <td>0.0</td>\n",
              "      <td>0.0</td>\n",
              "      <td>1.0</td>\n",
              "      <td>0.10</td>\n",
              "      <td>0.065721</td>\n",
              "      <td>0.695297</td>\n",
              "      <td>0.262078</td>\n",
              "      <td>0.695297</td>\n",
              "      <td>0.361760</td>\n",
              "      <td>0.628269</td>\n",
              "      <td>0.040755</td>\n",
              "      <td>0.915690</td>\n",
              "      <td>0.337114</td>\n",
              "      <td>0.121622</td>\n",
              "      <td>1.0</td>\n",
              "      <td>1.0</td>\n",
              "      <td>0.0</td>\n",
              "      <td>1.0</td>\n",
              "      <td>1.0</td>\n",
              "      <td>0.0</td>\n",
              "      <td>0.15</td>\n",
              "      <td>0.5</td>\n",
              "      <td>0.75</td>\n",
              "      <td>0.478261</td>\n",
              "      <td>0.0</td>\n",
              "      <td>0.0</td>\n",
              "      <td>0.0</td>\n",
              "      <td>0.0</td>\n",
              "      <td>0.0</td>\n",
              "      <td>0.0</td>\n",
              "      <td>0.553401</td>\n",
              "      <td>0.596110</td>\n",
              "      <td>0.694076</td>\n",
              "      <td>0.3052</td>\n",
              "      <td>0.1974</td>\n",
              "      <td>0.9970</td>\n",
              "      <td>0.9592</td>\n",
              "      <td>0.1165</td>\n",
              "      <td>0.32</td>\n",
              "      <td>...</td>\n",
              "      <td>0.0</td>\n",
              "      <td>0.0</td>\n",
              "      <td>0.0</td>\n",
              "      <td>0.0</td>\n",
              "      <td>0.0</td>\n",
              "      <td>0.0</td>\n",
              "      <td>0.0</td>\n",
              "      <td>0.0</td>\n",
              "      <td>0.0</td>\n",
              "      <td>0.0</td>\n",
              "      <td>0.0</td>\n",
              "      <td>0.0</td>\n",
              "      <td>0.0</td>\n",
              "      <td>0.0</td>\n",
              "      <td>0.0</td>\n",
              "      <td>0.0</td>\n",
              "      <td>0.0</td>\n",
              "      <td>0.0</td>\n",
              "      <td>0.0</td>\n",
              "      <td>0.0</td>\n",
              "      <td>0.0</td>\n",
              "      <td>0.0</td>\n",
              "      <td>0.0</td>\n",
              "      <td>0.0</td>\n",
              "      <td>0.0</td>\n",
              "      <td>0.0</td>\n",
              "      <td>1.0</td>\n",
              "      <td>0.0</td>\n",
              "      <td>1.0</td>\n",
              "      <td>0.0</td>\n",
              "      <td>0.0</td>\n",
              "      <td>0.0</td>\n",
              "      <td>0.0</td>\n",
              "      <td>0.0</td>\n",
              "      <td>0.0</td>\n",
              "      <td>1.0</td>\n",
              "      <td>0.0</td>\n",
              "      <td>0.0</td>\n",
              "      <td>1.0</td>\n",
              "      <td>0.0</td>\n",
              "    </tr>\n",
              "    <tr>\n",
              "      <th>4</th>\n",
              "      <td>0.000104</td>\n",
              "      <td>0.0</td>\n",
              "      <td>1.0</td>\n",
              "      <td>0.0</td>\n",
              "      <td>0.05</td>\n",
              "      <td>0.034920</td>\n",
              "      <td>0.263804</td>\n",
              "      <td>0.166995</td>\n",
              "      <td>0.263804</td>\n",
              "      <td>0.135340</td>\n",
              "      <td>0.680685</td>\n",
              "      <td>0.039905</td>\n",
              "      <td>0.831380</td>\n",
              "      <td>0.328607</td>\n",
              "      <td>0.216216</td>\n",
              "      <td>1.0</td>\n",
              "      <td>1.0</td>\n",
              "      <td>1.0</td>\n",
              "      <td>1.0</td>\n",
              "      <td>0.0</td>\n",
              "      <td>0.0</td>\n",
              "      <td>0.10</td>\n",
              "      <td>0.5</td>\n",
              "      <td>0.75</td>\n",
              "      <td>0.217391</td>\n",
              "      <td>0.0</td>\n",
              "      <td>0.0</td>\n",
              "      <td>0.0</td>\n",
              "      <td>0.0</td>\n",
              "      <td>1.0</td>\n",
              "      <td>1.0</td>\n",
              "      <td>0.203835</td>\n",
              "      <td>0.497875</td>\n",
              "      <td>0.587946</td>\n",
              "      <td>0.0928</td>\n",
              "      <td>0.0781</td>\n",
              "      <td>0.9816</td>\n",
              "      <td>0.7552</td>\n",
              "      <td>0.0227</td>\n",
              "      <td>0.00</td>\n",
              "      <td>...</td>\n",
              "      <td>0.0</td>\n",
              "      <td>0.0</td>\n",
              "      <td>0.0</td>\n",
              "      <td>0.0</td>\n",
              "      <td>0.0</td>\n",
              "      <td>0.0</td>\n",
              "      <td>0.0</td>\n",
              "      <td>0.0</td>\n",
              "      <td>0.0</td>\n",
              "      <td>0.0</td>\n",
              "      <td>0.0</td>\n",
              "      <td>0.0</td>\n",
              "      <td>0.0</td>\n",
              "      <td>0.0</td>\n",
              "      <td>0.0</td>\n",
              "      <td>0.0</td>\n",
              "      <td>0.0</td>\n",
              "      <td>0.0</td>\n",
              "      <td>0.0</td>\n",
              "      <td>0.0</td>\n",
              "      <td>0.0</td>\n",
              "      <td>0.0</td>\n",
              "      <td>0.0</td>\n",
              "      <td>0.0</td>\n",
              "      <td>0.0</td>\n",
              "      <td>0.0</td>\n",
              "      <td>0.0</td>\n",
              "      <td>0.0</td>\n",
              "      <td>0.0</td>\n",
              "      <td>0.0</td>\n",
              "      <td>0.0</td>\n",
              "      <td>0.0</td>\n",
              "      <td>0.0</td>\n",
              "      <td>0.0</td>\n",
              "      <td>0.0</td>\n",
              "      <td>0.0</td>\n",
              "      <td>0.0</td>\n",
              "      <td>0.0</td>\n",
              "      <td>0.0</td>\n",
              "      <td>0.0</td>\n",
              "    </tr>\n",
              "    <tr>\n",
              "      <th>5</th>\n",
              "      <td>0.000115</td>\n",
              "      <td>0.0</td>\n",
              "      <td>1.0</td>\n",
              "      <td>1.0</td>\n",
              "      <td>0.00</td>\n",
              "      <td>0.055454</td>\n",
              "      <td>0.415673</td>\n",
              "      <td>0.181206</td>\n",
              "      <td>0.347648</td>\n",
              "      <td>0.344765</td>\n",
              "      <td>0.369099</td>\n",
              "      <td>0.014251</td>\n",
              "      <td>0.742180</td>\n",
              "      <td>0.680687</td>\n",
              "      <td>0.135135</td>\n",
              "      <td>1.0</td>\n",
              "      <td>1.0</td>\n",
              "      <td>0.0</td>\n",
              "      <td>1.0</td>\n",
              "      <td>1.0</td>\n",
              "      <td>0.0</td>\n",
              "      <td>0.05</td>\n",
              "      <td>0.5</td>\n",
              "      <td>0.75</td>\n",
              "      <td>0.652174</td>\n",
              "      <td>0.0</td>\n",
              "      <td>0.0</td>\n",
              "      <td>0.0</td>\n",
              "      <td>0.0</td>\n",
              "      <td>0.0</td>\n",
              "      <td>0.0</td>\n",
              "      <td>0.532916</td>\n",
              "      <td>0.735558</td>\n",
              "      <td>0.444722</td>\n",
              "      <td>0.2412</td>\n",
              "      <td>0.0084</td>\n",
              "      <td>0.9821</td>\n",
              "      <td>0.7552</td>\n",
              "      <td>0.0452</td>\n",
              "      <td>0.16</td>\n",
              "      <td>...</td>\n",
              "      <td>0.0</td>\n",
              "      <td>0.0</td>\n",
              "      <td>0.0</td>\n",
              "      <td>0.0</td>\n",
              "      <td>0.0</td>\n",
              "      <td>0.0</td>\n",
              "      <td>0.0</td>\n",
              "      <td>0.0</td>\n",
              "      <td>0.0</td>\n",
              "      <td>0.0</td>\n",
              "      <td>0.0</td>\n",
              "      <td>0.0</td>\n",
              "      <td>0.0</td>\n",
              "      <td>0.0</td>\n",
              "      <td>0.0</td>\n",
              "      <td>0.0</td>\n",
              "      <td>0.0</td>\n",
              "      <td>0.0</td>\n",
              "      <td>0.0</td>\n",
              "      <td>0.0</td>\n",
              "      <td>0.0</td>\n",
              "      <td>0.0</td>\n",
              "      <td>0.0</td>\n",
              "      <td>0.0</td>\n",
              "      <td>1.0</td>\n",
              "      <td>0.0</td>\n",
              "      <td>0.0</td>\n",
              "      <td>0.0</td>\n",
              "      <td>1.0</td>\n",
              "      <td>0.0</td>\n",
              "      <td>0.0</td>\n",
              "      <td>1.0</td>\n",
              "      <td>0.0</td>\n",
              "      <td>0.0</td>\n",
              "      <td>0.0</td>\n",
              "      <td>0.0</td>\n",
              "      <td>0.0</td>\n",
              "      <td>0.0</td>\n",
              "      <td>1.0</td>\n",
              "      <td>0.0</td>\n",
              "    </tr>\n",
              "    <tr>\n",
              "      <th>6</th>\n",
              "      <td>0.000157</td>\n",
              "      <td>0.0</td>\n",
              "      <td>1.0</td>\n",
              "      <td>1.0</td>\n",
              "      <td>0.10</td>\n",
              "      <td>0.034920</td>\n",
              "      <td>0.206417</td>\n",
              "      <td>0.111187</td>\n",
              "      <td>0.149284</td>\n",
              "      <td>0.312048</td>\n",
              "      <td>0.476564</td>\n",
              "      <td>0.038889</td>\n",
              "      <td>0.573181</td>\n",
              "      <td>0.962035</td>\n",
              "      <td>0.040541</td>\n",
              "      <td>1.0</td>\n",
              "      <td>1.0</td>\n",
              "      <td>0.0</td>\n",
              "      <td>1.0</td>\n",
              "      <td>0.0</td>\n",
              "      <td>0.0</td>\n",
              "      <td>0.15</td>\n",
              "      <td>0.5</td>\n",
              "      <td>0.75</td>\n",
              "      <td>0.391304</td>\n",
              "      <td>0.0</td>\n",
              "      <td>0.0</td>\n",
              "      <td>0.0</td>\n",
              "      <td>0.0</td>\n",
              "      <td>1.0</td>\n",
              "      <td>1.0</td>\n",
              "      <td>0.807393</td>\n",
              "      <td>0.667932</td>\n",
              "      <td>0.737790</td>\n",
              "      <td>0.0928</td>\n",
              "      <td>0.0781</td>\n",
              "      <td>0.9816</td>\n",
              "      <td>0.7552</td>\n",
              "      <td>0.0227</td>\n",
              "      <td>0.00</td>\n",
              "      <td>...</td>\n",
              "      <td>0.0</td>\n",
              "      <td>0.0</td>\n",
              "      <td>0.0</td>\n",
              "      <td>0.0</td>\n",
              "      <td>0.0</td>\n",
              "      <td>0.0</td>\n",
              "      <td>0.0</td>\n",
              "      <td>0.0</td>\n",
              "      <td>0.0</td>\n",
              "      <td>0.0</td>\n",
              "      <td>0.0</td>\n",
              "      <td>0.0</td>\n",
              "      <td>0.0</td>\n",
              "      <td>0.0</td>\n",
              "      <td>0.0</td>\n",
              "      <td>0.0</td>\n",
              "      <td>0.0</td>\n",
              "      <td>0.0</td>\n",
              "      <td>0.0</td>\n",
              "      <td>0.0</td>\n",
              "      <td>0.0</td>\n",
              "      <td>0.0</td>\n",
              "      <td>0.0</td>\n",
              "      <td>0.0</td>\n",
              "      <td>0.0</td>\n",
              "      <td>0.0</td>\n",
              "      <td>0.0</td>\n",
              "      <td>0.0</td>\n",
              "      <td>0.0</td>\n",
              "      <td>0.0</td>\n",
              "      <td>0.0</td>\n",
              "      <td>0.0</td>\n",
              "      <td>0.0</td>\n",
              "      <td>0.0</td>\n",
              "      <td>0.0</td>\n",
              "      <td>0.0</td>\n",
              "      <td>0.0</td>\n",
              "      <td>0.0</td>\n",
              "      <td>0.0</td>\n",
              "      <td>0.0</td>\n",
              "    </tr>\n",
              "    <tr>\n",
              "      <th>7</th>\n",
              "      <td>0.000180</td>\n",
              "      <td>0.0</td>\n",
              "      <td>0.0</td>\n",
              "      <td>1.0</td>\n",
              "      <td>0.00</td>\n",
              "      <td>0.031840</td>\n",
              "      <td>0.061350</td>\n",
              "      <td>0.066889</td>\n",
              "      <td>0.061350</td>\n",
              "      <td>0.067691</td>\n",
              "      <td>0.878031</td>\n",
              "      <td>0.042006</td>\n",
              "      <td>0.786569</td>\n",
              "      <td>0.676276</td>\n",
              "      <td>0.121622</td>\n",
              "      <td>1.0</td>\n",
              "      <td>1.0</td>\n",
              "      <td>1.0</td>\n",
              "      <td>1.0</td>\n",
              "      <td>1.0</td>\n",
              "      <td>0.0</td>\n",
              "      <td>0.00</td>\n",
              "      <td>0.5</td>\n",
              "      <td>0.75</td>\n",
              "      <td>0.304348</td>\n",
              "      <td>0.0</td>\n",
              "      <td>0.0</td>\n",
              "      <td>0.0</td>\n",
              "      <td>0.0</td>\n",
              "      <td>0.0</td>\n",
              "      <td>0.0</td>\n",
              "      <td>0.596133</td>\n",
              "      <td>0.716995</td>\n",
              "      <td>0.353557</td>\n",
              "      <td>0.0928</td>\n",
              "      <td>0.0781</td>\n",
              "      <td>0.9816</td>\n",
              "      <td>0.7552</td>\n",
              "      <td>0.0227</td>\n",
              "      <td>0.00</td>\n",
              "      <td>...</td>\n",
              "      <td>0.0</td>\n",
              "      <td>0.0</td>\n",
              "      <td>0.0</td>\n",
              "      <td>0.0</td>\n",
              "      <td>0.0</td>\n",
              "      <td>0.0</td>\n",
              "      <td>0.0</td>\n",
              "      <td>0.0</td>\n",
              "      <td>1.0</td>\n",
              "      <td>0.0</td>\n",
              "      <td>0.0</td>\n",
              "      <td>0.0</td>\n",
              "      <td>0.0</td>\n",
              "      <td>0.0</td>\n",
              "      <td>0.0</td>\n",
              "      <td>0.0</td>\n",
              "      <td>0.0</td>\n",
              "      <td>0.0</td>\n",
              "      <td>0.0</td>\n",
              "      <td>0.0</td>\n",
              "      <td>0.0</td>\n",
              "      <td>0.0</td>\n",
              "      <td>0.0</td>\n",
              "      <td>0.0</td>\n",
              "      <td>0.0</td>\n",
              "      <td>0.0</td>\n",
              "      <td>0.0</td>\n",
              "      <td>0.0</td>\n",
              "      <td>0.0</td>\n",
              "      <td>0.0</td>\n",
              "      <td>0.0</td>\n",
              "      <td>0.0</td>\n",
              "      <td>0.0</td>\n",
              "      <td>0.0</td>\n",
              "      <td>0.0</td>\n",
              "      <td>0.0</td>\n",
              "      <td>0.0</td>\n",
              "      <td>0.0</td>\n",
              "      <td>0.0</td>\n",
              "      <td>0.0</td>\n",
              "    </tr>\n",
              "    <tr>\n",
              "      <th>8</th>\n",
              "      <td>0.000182</td>\n",
              "      <td>0.0</td>\n",
              "      <td>0.0</td>\n",
              "      <td>1.0</td>\n",
              "      <td>0.00</td>\n",
              "      <td>0.065721</td>\n",
              "      <td>0.145374</td>\n",
              "      <td>0.149553</td>\n",
              "      <td>0.122699</td>\n",
              "      <td>0.636177</td>\n",
              "      <td>0.697262</td>\n",
              "      <td>0.042983</td>\n",
              "      <td>0.928927</td>\n",
              "      <td>0.500473</td>\n",
              "      <td>0.121622</td>\n",
              "      <td>1.0</td>\n",
              "      <td>1.0</td>\n",
              "      <td>0.0</td>\n",
              "      <td>1.0</td>\n",
              "      <td>0.0</td>\n",
              "      <td>0.0</td>\n",
              "      <td>0.05</td>\n",
              "      <td>0.0</td>\n",
              "      <td>0.50</td>\n",
              "      <td>0.782609</td>\n",
              "      <td>0.0</td>\n",
              "      <td>0.0</td>\n",
              "      <td>0.0</td>\n",
              "      <td>0.0</td>\n",
              "      <td>0.0</td>\n",
              "      <td>0.0</td>\n",
              "      <td>0.761650</td>\n",
              "      <td>0.945950</td>\n",
              "      <td>0.592027</td>\n",
              "      <td>0.1031</td>\n",
              "      <td>0.1115</td>\n",
              "      <td>0.9781</td>\n",
              "      <td>0.7552</td>\n",
              "      <td>0.0227</td>\n",
              "      <td>0.00</td>\n",
              "      <td>...</td>\n",
              "      <td>0.0</td>\n",
              "      <td>0.0</td>\n",
              "      <td>0.0</td>\n",
              "      <td>0.0</td>\n",
              "      <td>0.0</td>\n",
              "      <td>1.0</td>\n",
              "      <td>0.0</td>\n",
              "      <td>0.0</td>\n",
              "      <td>0.0</td>\n",
              "      <td>0.0</td>\n",
              "      <td>0.0</td>\n",
              "      <td>0.0</td>\n",
              "      <td>0.0</td>\n",
              "      <td>0.0</td>\n",
              "      <td>0.0</td>\n",
              "      <td>0.0</td>\n",
              "      <td>0.0</td>\n",
              "      <td>0.0</td>\n",
              "      <td>0.0</td>\n",
              "      <td>0.0</td>\n",
              "      <td>0.0</td>\n",
              "      <td>0.0</td>\n",
              "      <td>0.0</td>\n",
              "      <td>0.0</td>\n",
              "      <td>0.0</td>\n",
              "      <td>0.0</td>\n",
              "      <td>0.0</td>\n",
              "      <td>0.0</td>\n",
              "      <td>1.0</td>\n",
              "      <td>0.0</td>\n",
              "      <td>0.0</td>\n",
              "      <td>0.0</td>\n",
              "      <td>0.0</td>\n",
              "      <td>0.0</td>\n",
              "      <td>0.0</td>\n",
              "      <td>0.0</td>\n",
              "      <td>1.0</td>\n",
              "      <td>0.0</td>\n",
              "      <td>1.0</td>\n",
              "      <td>0.0</td>\n",
              "    </tr>\n",
              "    <tr>\n",
              "      <th>9</th>\n",
              "      <td>0.000185</td>\n",
              "      <td>0.0</td>\n",
              "      <td>1.0</td>\n",
              "      <td>1.0</td>\n",
              "      <td>0.05</td>\n",
              "      <td>0.030814</td>\n",
              "      <td>0.000000</td>\n",
              "      <td>0.017063</td>\n",
              "      <td>0.000000</td>\n",
              "      <td>0.254391</td>\n",
              "      <td>0.828807</td>\n",
              "      <td>0.038771</td>\n",
              "      <td>0.657533</td>\n",
              "      <td>0.520951</td>\n",
              "      <td>0.067568</td>\n",
              "      <td>1.0</td>\n",
              "      <td>1.0</td>\n",
              "      <td>1.0</td>\n",
              "      <td>1.0</td>\n",
              "      <td>1.0</td>\n",
              "      <td>0.0</td>\n",
              "      <td>0.10</td>\n",
              "      <td>0.5</td>\n",
              "      <td>0.75</td>\n",
              "      <td>0.608696</td>\n",
              "      <td>0.0</td>\n",
              "      <td>0.0</td>\n",
              "      <td>0.0</td>\n",
              "      <td>0.0</td>\n",
              "      <td>0.0</td>\n",
              "      <td>0.0</td>\n",
              "      <td>0.212928</td>\n",
              "      <td>0.520285</td>\n",
              "      <td>0.219433</td>\n",
              "      <td>0.0928</td>\n",
              "      <td>0.0781</td>\n",
              "      <td>0.9816</td>\n",
              "      <td>0.7552</td>\n",
              "      <td>0.0227</td>\n",
              "      <td>0.00</td>\n",
              "      <td>...</td>\n",
              "      <td>0.0</td>\n",
              "      <td>0.0</td>\n",
              "      <td>0.0</td>\n",
              "      <td>0.0</td>\n",
              "      <td>0.0</td>\n",
              "      <td>0.0</td>\n",
              "      <td>0.0</td>\n",
              "      <td>0.0</td>\n",
              "      <td>0.0</td>\n",
              "      <td>0.0</td>\n",
              "      <td>0.0</td>\n",
              "      <td>0.0</td>\n",
              "      <td>1.0</td>\n",
              "      <td>0.0</td>\n",
              "      <td>0.0</td>\n",
              "      <td>0.0</td>\n",
              "      <td>0.0</td>\n",
              "      <td>0.0</td>\n",
              "      <td>0.0</td>\n",
              "      <td>0.0</td>\n",
              "      <td>0.0</td>\n",
              "      <td>0.0</td>\n",
              "      <td>0.0</td>\n",
              "      <td>0.0</td>\n",
              "      <td>0.0</td>\n",
              "      <td>0.0</td>\n",
              "      <td>0.0</td>\n",
              "      <td>0.0</td>\n",
              "      <td>0.0</td>\n",
              "      <td>0.0</td>\n",
              "      <td>0.0</td>\n",
              "      <td>0.0</td>\n",
              "      <td>0.0</td>\n",
              "      <td>0.0</td>\n",
              "      <td>0.0</td>\n",
              "      <td>0.0</td>\n",
              "      <td>0.0</td>\n",
              "      <td>0.0</td>\n",
              "      <td>0.0</td>\n",
              "      <td>0.0</td>\n",
              "    </tr>\n",
              "  </tbody>\n",
              "</table>\n",
              "<p>10 rows × 421 columns</p>\n",
              "</div>"
            ],
            "text/plain": [
              "        0    1    2    3     4         5    ...  415  416  417  418  419  420\n",
              "0  0.000000  0.0  0.0  1.0  0.00  0.024654  ...  0.0  0.0  1.0  0.0  1.0  0.0\n",
              "1  0.000011  0.0  0.0  1.0  0.00  0.016440  ...  0.0  0.0  0.0  0.0  0.0  0.0\n",
              "2  0.000034  0.0  1.0  1.0  0.00  0.040054  ...  0.0  0.0  0.0  0.0  0.0  0.0\n",
              "3  0.000076  0.0  0.0  1.0  0.10  0.065721  ...  0.0  1.0  0.0  0.0  1.0  0.0\n",
              "4  0.000104  0.0  1.0  0.0  0.05  0.034920  ...  0.0  0.0  0.0  0.0  0.0  0.0\n",
              "5  0.000115  0.0  1.0  1.0  0.00  0.055454  ...  0.0  0.0  0.0  0.0  1.0  0.0\n",
              "6  0.000157  0.0  1.0  1.0  0.10  0.034920  ...  0.0  0.0  0.0  0.0  0.0  0.0\n",
              "7  0.000180  0.0  0.0  1.0  0.00  0.031840  ...  0.0  0.0  0.0  0.0  0.0  0.0\n",
              "8  0.000182  0.0  0.0  1.0  0.00  0.065721  ...  0.0  0.0  1.0  0.0  1.0  0.0\n",
              "9  0.000185  0.0  1.0  1.0  0.05  0.030814  ...  0.0  0.0  0.0  0.0  0.0  0.0\n",
              "\n",
              "[10 rows x 421 columns]"
            ]
          },
          "metadata": {},
          "execution_count": 31
        }
      ]
    },
    {
      "cell_type": "code",
      "metadata": {
        "colab": {
          "base_uri": "https://localhost:8080/",
          "height": 173
        },
        "id": "KWaPKjn3hkJx",
        "outputId": "0eb865c3-24e4-4d31-9589-13d512d0e191"
      },
      "source": [
        "train_application_only.head(10)"
      ],
      "execution_count": null,
      "outputs": [
        {
          "output_type": "error",
          "ename": "AttributeError",
          "evalue": "ignored",
          "traceback": [
            "\u001b[0;31m---------------------------------------------------------------------------\u001b[0m",
            "\u001b[0;31mAttributeError\u001b[0m                            Traceback (most recent call last)",
            "\u001b[0;32m<ipython-input-31-cd5ddda76e29>\u001b[0m in \u001b[0;36m<module>\u001b[0;34m()\u001b[0m\n\u001b[0;32m----> 1\u001b[0;31m \u001b[0mtrain_application_only\u001b[0m\u001b[0;34m.\u001b[0m\u001b[0mhead\u001b[0m\u001b[0;34m(\u001b[0m\u001b[0;36m10\u001b[0m\u001b[0;34m)\u001b[0m\u001b[0;34m\u001b[0m\u001b[0;34m\u001b[0m\u001b[0m\n\u001b[0m",
            "\u001b[0;31mAttributeError\u001b[0m: 'numpy.ndarray' object has no attribute 'head'"
          ]
        }
      ]
    },
    {
      "cell_type": "code",
      "metadata": {
        "id": "a-v-ufUDei9t"
      },
      "source": [
        "#logistic regression with merged training dataset\n",
        "from sklearn.linear_model import LogisticRegression\n",
        "from sklearn.model_selection import KFold\n",
        "\n",
        "# Make the model with the specified regularization parameter\n",
        "logistic_reg = LogisticRegression(C = 0.0001)\n",
        "\n",
        "# Train on the training data\n",
        "fold_count = 0\n",
        "logistic_reg.fit(train_merged_df, train_merged_labels)\n",
        "logistic_reg_pred = logistic_reg.predict_proba(test_cleaned_df)[:, 1]\n"
      ],
      "execution_count": null,
      "outputs": []
    },
    {
      "cell_type": "code",
      "metadata": {
        "colab": {
          "base_uri": "https://localhost:8080/"
        },
        "id": "KNDXv-o6tGwY",
        "outputId": "bb97a6f9-964d-4200-e08b-4e0db23de16a"
      },
      "source": [
        "logistic_reg_pred"
      ],
      "execution_count": null,
      "outputs": [
        {
          "output_type": "execute_result",
          "data": {
            "text/plain": [
              "array([0.06790715, 0.12268289, 0.05260573, ..., 0.07172443, 0.05625225,\n",
              "       0.10073069])"
            ]
          },
          "metadata": {},
          "execution_count": 10
        }
      ]
    },
    {
      "cell_type": "code",
      "metadata": {
        "colab": {
          "base_uri": "https://localhost:8080/",
          "height": 326
        },
        "id": "LKRextU0qrtP",
        "outputId": "11ba1559-4301-444f-848c-fdcd8e917a13"
      },
      "source": [
        "logistic_merged_probs = logistic_reg.predict_proba(test_filled_na)[:, 1]"
      ],
      "execution_count": null,
      "outputs": [
        {
          "output_type": "error",
          "ename": "ValueError",
          "evalue": "ignored",
          "traceback": [
            "\u001b[0;31m---------------------------------------------------------------------------\u001b[0m",
            "\u001b[0;31mValueError\u001b[0m                                Traceback (most recent call last)",
            "\u001b[0;32m<ipython-input-40-91f2356ff5c5>\u001b[0m in \u001b[0;36m<module>\u001b[0;34m()\u001b[0m\n\u001b[0;32m----> 1\u001b[0;31m \u001b[0mlogistic_merged_probs\u001b[0m \u001b[0;34m=\u001b[0m \u001b[0mlogistic_reg\u001b[0m\u001b[0;34m.\u001b[0m\u001b[0mpredict_proba\u001b[0m\u001b[0;34m(\u001b[0m\u001b[0mtest_filled_na\u001b[0m\u001b[0;34m)\u001b[0m\u001b[0;34m[\u001b[0m\u001b[0;34m:\u001b[0m\u001b[0;34m,\u001b[0m \u001b[0;36m1\u001b[0m\u001b[0;34m]\u001b[0m\u001b[0;34m\u001b[0m\u001b[0;34m\u001b[0m\u001b[0m\n\u001b[0m",
            "\u001b[0;32m/usr/local/lib/python3.7/dist-packages/sklearn/linear_model/_logistic.py\u001b[0m in \u001b[0;36mpredict_proba\u001b[0;34m(self, X)\u001b[0m\n\u001b[1;32m   1649\u001b[0m                                                 self.solver == 'liblinear')))\n\u001b[1;32m   1650\u001b[0m         \u001b[0;32mif\u001b[0m \u001b[0movr\u001b[0m\u001b[0;34m:\u001b[0m\u001b[0;34m\u001b[0m\u001b[0;34m\u001b[0m\u001b[0m\n\u001b[0;32m-> 1651\u001b[0;31m             \u001b[0;32mreturn\u001b[0m \u001b[0msuper\u001b[0m\u001b[0;34m(\u001b[0m\u001b[0;34m)\u001b[0m\u001b[0;34m.\u001b[0m\u001b[0m_predict_proba_lr\u001b[0m\u001b[0;34m(\u001b[0m\u001b[0mX\u001b[0m\u001b[0;34m)\u001b[0m\u001b[0;34m\u001b[0m\u001b[0;34m\u001b[0m\u001b[0m\n\u001b[0m\u001b[1;32m   1652\u001b[0m         \u001b[0;32melse\u001b[0m\u001b[0;34m:\u001b[0m\u001b[0;34m\u001b[0m\u001b[0;34m\u001b[0m\u001b[0m\n\u001b[1;32m   1653\u001b[0m             \u001b[0mdecision\u001b[0m \u001b[0;34m=\u001b[0m \u001b[0mself\u001b[0m\u001b[0;34m.\u001b[0m\u001b[0mdecision_function\u001b[0m\u001b[0;34m(\u001b[0m\u001b[0mX\u001b[0m\u001b[0;34m)\u001b[0m\u001b[0;34m\u001b[0m\u001b[0;34m\u001b[0m\u001b[0m\n",
            "\u001b[0;32m/usr/local/lib/python3.7/dist-packages/sklearn/linear_model/_base.py\u001b[0m in \u001b[0;36m_predict_proba_lr\u001b[0;34m(self, X)\u001b[0m\n\u001b[1;32m    305\u001b[0m         \u001b[0mmulticlass\u001b[0m \u001b[0;32mis\u001b[0m \u001b[0mhandled\u001b[0m \u001b[0mby\u001b[0m \u001b[0mnormalizing\u001b[0m \u001b[0mthat\u001b[0m \u001b[0mover\u001b[0m \u001b[0mall\u001b[0m \u001b[0mclasses\u001b[0m\u001b[0;34m.\u001b[0m\u001b[0;34m\u001b[0m\u001b[0;34m\u001b[0m\u001b[0m\n\u001b[1;32m    306\u001b[0m         \"\"\"\n\u001b[0;32m--> 307\u001b[0;31m         \u001b[0mprob\u001b[0m \u001b[0;34m=\u001b[0m \u001b[0mself\u001b[0m\u001b[0;34m.\u001b[0m\u001b[0mdecision_function\u001b[0m\u001b[0;34m(\u001b[0m\u001b[0mX\u001b[0m\u001b[0;34m)\u001b[0m\u001b[0;34m\u001b[0m\u001b[0;34m\u001b[0m\u001b[0m\n\u001b[0m\u001b[1;32m    308\u001b[0m         \u001b[0mexpit\u001b[0m\u001b[0;34m(\u001b[0m\u001b[0mprob\u001b[0m\u001b[0;34m,\u001b[0m \u001b[0mout\u001b[0m\u001b[0;34m=\u001b[0m\u001b[0mprob\u001b[0m\u001b[0;34m)\u001b[0m\u001b[0;34m\u001b[0m\u001b[0;34m\u001b[0m\u001b[0m\n\u001b[1;32m    309\u001b[0m         \u001b[0;32mif\u001b[0m \u001b[0mprob\u001b[0m\u001b[0;34m.\u001b[0m\u001b[0mndim\u001b[0m \u001b[0;34m==\u001b[0m \u001b[0;36m1\u001b[0m\u001b[0;34m:\u001b[0m\u001b[0;34m\u001b[0m\u001b[0;34m\u001b[0m\u001b[0m\n",
            "\u001b[0;32m/usr/local/lib/python3.7/dist-packages/sklearn/linear_model/_base.py\u001b[0m in \u001b[0;36mdecision_function\u001b[0;34m(self, X)\u001b[0m\n\u001b[1;32m    271\u001b[0m         \u001b[0;32mif\u001b[0m \u001b[0mX\u001b[0m\u001b[0;34m.\u001b[0m\u001b[0mshape\u001b[0m\u001b[0;34m[\u001b[0m\u001b[0;36m1\u001b[0m\u001b[0;34m]\u001b[0m \u001b[0;34m!=\u001b[0m \u001b[0mn_features\u001b[0m\u001b[0;34m:\u001b[0m\u001b[0;34m\u001b[0m\u001b[0;34m\u001b[0m\u001b[0m\n\u001b[1;32m    272\u001b[0m             raise ValueError(\"X has %d features per sample; expecting %d\"\n\u001b[0;32m--> 273\u001b[0;31m                              % (X.shape[1], n_features))\n\u001b[0m\u001b[1;32m    274\u001b[0m \u001b[0;34m\u001b[0m\u001b[0m\n\u001b[1;32m    275\u001b[0m         scores = safe_sparse_dot(X, self.coef_.T,\n",
            "\u001b[0;31mValueError\u001b[0m: X has 421 features per sample; expecting 422"
          ]
        }
      ]
    },
    {
      "cell_type": "code",
      "metadata": {
        "id": "Po0qkzgOPdQ1"
      },
      "source": [
        "# Make predictions\n",
        "# Make sure to select the second column only\n",
        "logistic_reg_pred = logistic_reg.predict_proba(test_application_only)[:, 1]"
      ],
      "execution_count": null,
      "outputs": []
    },
    {
      "cell_type": "code",
      "metadata": {
        "id": "S1S93bw5qDbp"
      },
      "source": [
        "logistic_merged_submit = test_application_only[['SK_ID_CURR']]\n",
        "logistic_merged_submit['TARGET'] = logistic_reg_pred\n",
        "logistic_merged_submit.to_csv(\"logistic_merged_submit.csv\")"
      ],
      "execution_count": null,
      "outputs": []
    },
    {
      "cell_type": "code",
      "metadata": {
        "id": "UsOH88_4tbIu"
      },
      "source": [
        "!mv logistic_merged_submit.csv ./drive/MyDrive/MATH4995Project1/"
      ],
      "execution_count": null,
      "outputs": []
    },
    {
      "cell_type": "code",
      "metadata": {
        "id": "WVO_R6riPfOa",
        "colab": {
          "base_uri": "https://localhost:8080/",
          "height": 310
        },
        "outputId": "d479686e-3bec-483a-9747-c32ac122a829"
      },
      "source": [
        "# Submission dataframe\n",
        "submit = test_application_only_copy_df[['SK_ID_CURR']]\n",
        "submit['TARGET'] = logistic_reg_pred\n",
        "\n",
        "submit.head()"
      ],
      "execution_count": null,
      "outputs": [
        {
          "output_type": "stream",
          "name": "stderr",
          "text": [
            "/usr/local/lib/python3.7/dist-packages/ipykernel_launcher.py:3: SettingWithCopyWarning: \n",
            "A value is trying to be set on a copy of a slice from a DataFrame.\n",
            "Try using .loc[row_indexer,col_indexer] = value instead\n",
            "\n",
            "See the caveats in the documentation: https://pandas.pydata.org/pandas-docs/stable/user_guide/indexing.html#returning-a-view-versus-a-copy\n",
            "  This is separate from the ipykernel package so we can avoid doing imports until\n"
          ]
        },
        {
          "output_type": "execute_result",
          "data": {
            "text/html": [
              "<div>\n",
              "<style scoped>\n",
              "    .dataframe tbody tr th:only-of-type {\n",
              "        vertical-align: middle;\n",
              "    }\n",
              "\n",
              "    .dataframe tbody tr th {\n",
              "        vertical-align: top;\n",
              "    }\n",
              "\n",
              "    .dataframe thead th {\n",
              "        text-align: right;\n",
              "    }\n",
              "</style>\n",
              "<table border=\"1\" class=\"dataframe\">\n",
              "  <thead>\n",
              "    <tr style=\"text-align: right;\">\n",
              "      <th></th>\n",
              "      <th>SK_ID_CURR</th>\n",
              "      <th>TARGET</th>\n",
              "    </tr>\n",
              "  </thead>\n",
              "  <tbody>\n",
              "    <tr>\n",
              "      <th>0</th>\n",
              "      <td>100001</td>\n",
              "      <td>0.070811</td>\n",
              "    </tr>\n",
              "    <tr>\n",
              "      <th>1</th>\n",
              "      <td>100005</td>\n",
              "      <td>0.100874</td>\n",
              "    </tr>\n",
              "    <tr>\n",
              "      <th>2</th>\n",
              "      <td>100013</td>\n",
              "      <td>0.067592</td>\n",
              "    </tr>\n",
              "    <tr>\n",
              "      <th>3</th>\n",
              "      <td>100028</td>\n",
              "      <td>0.075589</td>\n",
              "    </tr>\n",
              "    <tr>\n",
              "      <th>4</th>\n",
              "      <td>100038</td>\n",
              "      <td>0.106164</td>\n",
              "    </tr>\n",
              "  </tbody>\n",
              "</table>\n",
              "</div>"
            ],
            "text/plain": [
              "   SK_ID_CURR    TARGET\n",
              "0      100001  0.070811\n",
              "1      100005  0.100874\n",
              "2      100013  0.067592\n",
              "3      100028  0.075589\n",
              "4      100038  0.106164"
            ]
          },
          "metadata": {},
          "execution_count": 29
        }
      ]
    },
    {
      "cell_type": "code",
      "metadata": {
        "id": "upbVvwV5PjfQ"
      },
      "source": [
        "# Save the submission to a csv file\n",
        "submit.to_csv('logistic_reg_baseline.csv', index = False)"
      ],
      "execution_count": null,
      "outputs": []
    },
    {
      "cell_type": "markdown",
      "metadata": {
        "id": "XPCow_IMI1iF"
      },
      "source": [
        "# Fit LightGBM"
      ]
    },
    {
      "cell_type": "code",
      "metadata": {
        "id": "pg2pwdRQttHW"
      },
      "source": [
        "import pandas as pd\n",
        "train_application_only = pd.read_csv(\"train_application_only_cleaned.csv\")\n",
        "test_application_only = pd.read_csv('test_application_only_cleaned.csv')"
      ],
      "execution_count": null,
      "outputs": []
    },
    {
      "cell_type": "code",
      "metadata": {
        "id": "nUtjAvwAv307"
      },
      "source": [
        "!cp ./drive/MyDrive/MATH4995Project1/train_application_only_cleaned_idfilled.csv ./\n",
        "!cp ./drive/MyDrive/MATH4995Project1/test_application_only_cleaned_idfilled.csv ./"
      ],
      "execution_count": null,
      "outputs": []
    },
    {
      "cell_type": "code",
      "metadata": {
        "id": "LMXxs_fcyFG7"
      },
      "source": [
        "real_train_application_only = pd.read_csv(\"drive/MyDrive/MATH4995Project1/train_application_only_cleaned_idfilled.csv\")\n",
        "real_test_application_only = pd.read_csv(\"drive/MyDrive/MATH4995Project1/test_application_only_cleaned_idfilled.csv\")"
      ],
      "execution_count": null,
      "outputs": []
    },
    {
      "cell_type": "code",
      "metadata": {
        "id": "T1hLQh3rIrNH"
      },
      "source": [
        "import lightgbm as lgb\n",
        "from sklearn.metrics import roc_auc_score\n",
        "from sklearn.model_selection import KFold\n",
        "import gc"
      ],
      "execution_count": null,
      "outputs": []
    },
    {
      "cell_type": "code",
      "metadata": {
        "id": "AEh_R4lu6zOz"
      },
      "source": [
        "lightgbm_first_fold_probs = []\n",
        "lightgbm_first_fold_labels = []"
      ],
      "execution_count": null,
      "outputs": []
    },
    {
      "cell_type": "code",
      "metadata": {
        "id": "tJkaxjd8JX6a"
      },
      "source": [
        "def lightGBM_model(train_data, test_data, n_folds):   \n",
        "    global lightgbm_first_fold_probs, lightgbm_first_fold_labels\n",
        "    # Extract the ID in training and test set\n",
        "    train_IDs = train_data['SK_ID_CURR']\n",
        "    test_IDs = test_data['SK_ID_CURR']\n",
        "    \n",
        "    # Extract the target labels in training set\n",
        "    labels = train_data['TARGET']\n",
        "    \n",
        "    # Remove the ID and target columns\n",
        "    train_data = train_data.drop(columns = ['SK_ID_CURR', 'TARGET'])\n",
        "    test_data = test_data.drop(columns = ['SK_ID_CURR'])\n",
        "\n",
        "    # Create a label encoder\n",
        "    label_encoder = LabelEncoder()\n",
        "    \n",
        "    # List for storing categorical indices\n",
        "    categorical_indices = []\n",
        "    \n",
        "    # Search every column\n",
        "    for i, col in enumerate(train_data):\n",
        "        if train_data[col].dtype == 'object':\n",
        "            # Convert categorical features to integers\n",
        "            train_data[col] = label_encoder.fit_transform(np.array(train_data[col].astype(str)).reshape((-1,)))\n",
        "            test_data[col] = label_encoder.transform(np.array(test_data[col].astype(str)).reshape((-1,)))\n",
        "\n",
        "            # Add the categorical indices to the list\n",
        "            categorical_indices.append(i)\n",
        "    \n",
        "    print('Training Data Shape: ', train_data.shape)\n",
        "    print('Testing Data Shape: ', test_data.shape)\n",
        "    \n",
        "    # List all features\n",
        "    feature_names = list(train_data.columns)\n",
        "    \n",
        "    # Convert training and test set to np arrays\n",
        "    train_data = np.array(train_data)\n",
        "    test_data = np.array(test_data)\n",
        "    \n",
        "    # Create the k-fold object\n",
        "    # n_splits must be >= 2\n",
        "    # random_state is only useful when shuffle is True\n",
        "    k_fold = KFold(n_splits = n_folds, shuffle = True, random_state = 1)\n",
        "\n",
        "    # See if we want to test shuffle\n",
        "    #k_fold_shuffle = KFold(n_splits = n_folds, shuffle = True, random_state = 50)\n",
        "    \n",
        "    # Record values for feature importances to better know which features we should use\n",
        "    feature_importance_values = np.zeros(len(feature_names))\n",
        "    \n",
        "    # Empty array for test predictions\n",
        "    test_predictions = np.zeros(test_data.shape[0])\n",
        "    \n",
        "    # Empty array for out of fold validation predictions\n",
        "    out_of_fold_val_pred = np.zeros(train_data.shape[0])\n",
        "    \n",
        "    # List to store training and validation scores\n",
        "    valid_scores = []\n",
        "    train_scores = []\n",
        "    \n",
        "    fold_num = 0\n",
        "    lightgbm_first_fold_probs = []\n",
        "    lightgbm_first_fold_labels = []\n",
        "    # Iterate through each fold\n",
        "    for train_indices, valid_indices in k_fold.split(train_data):\n",
        "        \n",
        "        # Training data for the fold\n",
        "        train_features, train_labels = train_data[train_indices], labels[train_indices]\n",
        "        # Validation data for the fold\n",
        "        valid_features, valid_labels = train_data[valid_indices], labels[valid_indices]\n",
        "        \n",
        "        if fold_num == 0:\n",
        "            lightgbm_first_fold_labels = labels[valid_indices]\n",
        "        # Create the light GBM model\n",
        "        # class_weight is used for multi-class classification task\n",
        "        # reg_alpha is L1 regularization term on weights\n",
        "        # reg_lambda is L2 regularization term on weights\n",
        "        # subsample is the subsample ratio of the training instance\n",
        "        # n_jobs is the number of parallel threads\n",
        "        # random_state is the random number seed\n",
        "        model = lgb.LGBMClassifier(n_estimators=10000, objective = 'binary', \n",
        "                                   class_weight = None, learning_rate = 0.05, \n",
        "                                   reg_alpha = 0.1, reg_lambda = 0.1, \n",
        "                                   subsample = 0.8, n_jobs = -1, random_state = 50)\n",
        "        \n",
        "        # maybe we can try other parameters\n",
        "        \n",
        "        # Train the light GBM model\n",
        "        model.fit(train_features, train_labels, eval_metric = 'auc',\n",
        "                  eval_set = [(valid_features, valid_labels), (train_features, train_labels)],\n",
        "                  eval_names = ['valid', 'train'], categorical_feature = categorical_indices,\n",
        "                  early_stopping_rounds = 100, verbose = 200)\n",
        "        \n",
        "        # Find the best iteration\n",
        "        best_iteration = model.best_iteration_\n",
        "        \n",
        "        # Find the feature importances\n",
        "        feature_importance_values = feature_importance_values + model.feature_importances_ / k_fold.n_splits\n",
        "        \n",
        "        # Make predictions\n",
        "        test_predictions = test_predictions + model.predict_proba(test_data, num_iteration = best_iteration)[:, 1] / k_fold.n_splits\n",
        "        \n",
        "        # Record the out of fold predictions\n",
        "        out_of_fold_val_pred[valid_indices] = model.predict_proba(valid_features, num_iteration = best_iteration)[:, 1]\n",
        "        \n",
        "        # Record the out of fold predictions of \n",
        "        if fold_num == 0:\n",
        "            lightgbm_first_fold_probs = model.predict_proba(valid_features, num_iteration = best_iteration)[:, 1]\n",
        "        # Record the best score\n",
        "        valid_score = model.best_score_['valid']['auc']\n",
        "        train_score = model.best_score_['train']['auc']\n",
        "        \n",
        "        valid_scores.append(valid_score)\n",
        "        train_scores.append(train_score)\n",
        "        \n",
        "        fold_num += 1\n",
        "        # Clean up memory\n",
        "        gc.enable()\n",
        "        del model, train_features, valid_features\n",
        "        gc.collect()\n",
        "        \n",
        "    # Create the submission dataframe\n",
        "    submission = pd.DataFrame({'SK_ID_CURR': test_IDs, 'TARGET': test_predictions})\n",
        "    \n",
        "    # Create the feature importance dataframe\n",
        "    feature_importances = pd.DataFrame({'feature': feature_names, 'importance': feature_importance_values})\n",
        "    \n",
        "    # Overall validation score\n",
        "    valid_auc = roc_auc_score(labels, out_of_fold_val_pred)\n",
        "    \n",
        "    # Add the overall scores to the list\n",
        "    valid_scores.append(valid_auc)\n",
        "    train_scores.append(np.mean(train_scores))\n",
        "    \n",
        "    # Create dataframe for validation scores\n",
        "    fold_names = list(range(n_folds))\n",
        "    fold_names.append('overall')\n",
        "    \n",
        "    # Dataframe of validation scores\n",
        "    metrics = pd.DataFrame({'fold': fold_names,\n",
        "                            'train': train_scores,\n",
        "                            'valid': valid_scores}) \n",
        "    \n",
        "    return submission, feature_importances, metrics"
      ],
      "execution_count": null,
      "outputs": []
    },
    {
      "cell_type": "code",
      "metadata": {
        "id": "OStWbvMOKeQn",
        "colab": {
          "base_uri": "https://localhost:8080/"
        },
        "outputId": "7d988916-44ff-44b6-c257-72358dbd6b2f"
      },
      "source": [
        "submission_raw, fi_raw, metrics_raw = lightGBM_model(real_train_application_only,real_test_application_only,5)"
      ],
      "execution_count": null,
      "outputs": [
        {
          "output_type": "stream",
          "name": "stdout",
          "text": [
            "Training Data Shape:  (307511, 236)\n",
            "Testing Data Shape:  (48744, 236)\n"
          ]
        },
        {
          "output_type": "stream",
          "name": "stderr",
          "text": [
            "/usr/local/lib/python3.7/dist-packages/lightgbm/basic.py:1209: UserWarning: categorical_feature in Dataset is overridden.\n",
            "New categorical_feature is []\n",
            "  'New categorical_feature is {}'.format(sorted(list(categorical_feature))))\n"
          ]
        },
        {
          "output_type": "stream",
          "name": "stdout",
          "text": [
            "Training until validation scores don't improve for 100 rounds.\n",
            "[200]\ttrain's binary_logloss: 0.23557\ttrain's auc: 0.795403\tvalid's binary_logloss: 0.245311\tvalid's auc: 0.7628\n",
            "[400]\ttrain's binary_logloss: 0.225062\ttrain's auc: 0.828699\tvalid's binary_logloss: 0.244871\tvalid's auc: 0.763815\n",
            "Early stopping, best iteration is:\n",
            "[499]\ttrain's binary_logloss: 0.220437\ttrain's auc: 0.841997\tvalid's binary_logloss: 0.244743\tvalid's auc: 0.764233\n"
          ]
        },
        {
          "output_type": "stream",
          "name": "stderr",
          "text": [
            "/usr/local/lib/python3.7/dist-packages/lightgbm/basic.py:1209: UserWarning: categorical_feature in Dataset is overridden.\n",
            "New categorical_feature is []\n",
            "  'New categorical_feature is {}'.format(sorted(list(categorical_feature))))\n"
          ]
        },
        {
          "output_type": "stream",
          "name": "stdout",
          "text": [
            "Training until validation scores don't improve for 100 rounds.\n",
            "[200]\ttrain's binary_logloss: 0.234624\ttrain's auc: 0.798859\tvalid's binary_logloss: 0.24762\tvalid's auc: 0.752928\n",
            "[400]\ttrain's binary_logloss: 0.223826\ttrain's auc: 0.833081\tvalid's binary_logloss: 0.247383\tvalid's auc: 0.753866\n",
            "Early stopping, best iteration is:\n",
            "[394]\ttrain's binary_logloss: 0.22409\ttrain's auc: 0.832258\tvalid's binary_logloss: 0.247389\tvalid's auc: 0.75389\n"
          ]
        },
        {
          "output_type": "stream",
          "name": "stderr",
          "text": [
            "/usr/local/lib/python3.7/dist-packages/lightgbm/basic.py:1209: UserWarning: categorical_feature in Dataset is overridden.\n",
            "New categorical_feature is []\n",
            "  'New categorical_feature is {}'.format(sorted(list(categorical_feature))))\n"
          ]
        },
        {
          "output_type": "stream",
          "name": "stdout",
          "text": [
            "Training until validation scores don't improve for 100 rounds.\n",
            "[200]\ttrain's binary_logloss: 0.235203\ttrain's auc: 0.798029\tvalid's binary_logloss: 0.245538\tvalid's auc: 0.753132\n",
            "[400]\ttrain's binary_logloss: 0.224409\ttrain's auc: 0.832435\tvalid's binary_logloss: 0.245318\tvalid's auc: 0.753637\n",
            "Early stopping, best iteration is:\n",
            "[426]\ttrain's binary_logloss: 0.223057\ttrain's auc: 0.836171\tvalid's binary_logloss: 0.245285\tvalid's auc: 0.753717\n"
          ]
        },
        {
          "output_type": "stream",
          "name": "stderr",
          "text": [
            "/usr/local/lib/python3.7/dist-packages/lightgbm/basic.py:1209: UserWarning: categorical_feature in Dataset is overridden.\n",
            "New categorical_feature is []\n",
            "  'New categorical_feature is {}'.format(sorted(list(categorical_feature))))\n"
          ]
        },
        {
          "output_type": "stream",
          "name": "stdout",
          "text": [
            "Training until validation scores don't improve for 100 rounds.\n",
            "[200]\ttrain's binary_logloss: 0.23349\ttrain's auc: 0.798319\tvalid's binary_logloss: 0.252526\tvalid's auc: 0.753985\n",
            "[400]\ttrain's binary_logloss: 0.222878\ttrain's auc: 0.831285\tvalid's binary_logloss: 0.252318\tvalid's auc: 0.754577\n",
            "Early stopping, best iteration is:\n",
            "[458]\ttrain's binary_logloss: 0.220071\ttrain's auc: 0.839478\tvalid's binary_logloss: 0.252247\tvalid's auc: 0.754917\n"
          ]
        },
        {
          "output_type": "stream",
          "name": "stderr",
          "text": [
            "/usr/local/lib/python3.7/dist-packages/lightgbm/basic.py:1209: UserWarning: categorical_feature in Dataset is overridden.\n",
            "New categorical_feature is []\n",
            "  'New categorical_feature is {}'.format(sorted(list(categorical_feature))))\n"
          ]
        },
        {
          "output_type": "stream",
          "name": "stdout",
          "text": [
            "Training until validation scores don't improve for 100 rounds.\n",
            "[200]\ttrain's binary_logloss: 0.235739\ttrain's auc: 0.797327\tvalid's binary_logloss: 0.244001\tvalid's auc: 0.753643\n",
            "[400]\ttrain's binary_logloss: 0.224952\ttrain's auc: 0.831119\tvalid's binary_logloss: 0.243931\tvalid's auc: 0.753768\n",
            "Early stopping, best iteration is:\n",
            "[309]\ttrain's binary_logloss: 0.229515\ttrain's auc: 0.817461\tvalid's binary_logloss: 0.243874\tvalid's auc: 0.753858\n"
          ]
        }
      ]
    },
    {
      "cell_type": "code",
      "metadata": {
        "id": "b-2eM2_w-SaA"
      },
      "source": [
        "submission_raw.to_csv(\"lightgbm_merged_ds_result.csv\", index = False)"
      ],
      "execution_count": null,
      "outputs": []
    },
    {
      "cell_type": "code",
      "metadata": {
        "colab": {
          "base_uri": "https://localhost:8080/",
          "height": 414
        },
        "id": "-ONPk2U7_ZSt",
        "outputId": "a07af78a-3a9c-488e-db52-561feeb1a086"
      },
      "source": [
        "fi_raw"
      ],
      "execution_count": null,
      "outputs": [
        {
          "output_type": "execute_result",
          "data": {
            "text/html": [
              "<div>\n",
              "<style scoped>\n",
              "    .dataframe tbody tr th:only-of-type {\n",
              "        vertical-align: middle;\n",
              "    }\n",
              "\n",
              "    .dataframe tbody tr th {\n",
              "        vertical-align: top;\n",
              "    }\n",
              "\n",
              "    .dataframe thead th {\n",
              "        text-align: right;\n",
              "    }\n",
              "</style>\n",
              "<table border=\"1\" class=\"dataframe\">\n",
              "  <thead>\n",
              "    <tr style=\"text-align: right;\">\n",
              "      <th></th>\n",
              "      <th>feature</th>\n",
              "      <th>importance</th>\n",
              "    </tr>\n",
              "  </thead>\n",
              "  <tbody>\n",
              "    <tr>\n",
              "      <th>0</th>\n",
              "      <td>1</td>\n",
              "      <td>63.8</td>\n",
              "    </tr>\n",
              "    <tr>\n",
              "      <th>1</th>\n",
              "      <td>2</td>\n",
              "      <td>60.6</td>\n",
              "    </tr>\n",
              "    <tr>\n",
              "      <th>2</th>\n",
              "      <td>3</td>\n",
              "      <td>27.0</td>\n",
              "    </tr>\n",
              "    <tr>\n",
              "      <th>3</th>\n",
              "      <td>4</td>\n",
              "      <td>37.6</td>\n",
              "    </tr>\n",
              "    <tr>\n",
              "      <th>4</th>\n",
              "      <td>5</td>\n",
              "      <td>364.0</td>\n",
              "    </tr>\n",
              "    <tr>\n",
              "      <th>...</th>\n",
              "      <td>...</td>\n",
              "      <td>...</td>\n",
              "    </tr>\n",
              "    <tr>\n",
              "      <th>231</th>\n",
              "      <td>232</td>\n",
              "      <td>25.4</td>\n",
              "    </tr>\n",
              "    <tr>\n",
              "      <th>232</th>\n",
              "      <td>233</td>\n",
              "      <td>12.8</td>\n",
              "    </tr>\n",
              "    <tr>\n",
              "      <th>233</th>\n",
              "      <td>234</td>\n",
              "      <td>1.0</td>\n",
              "    </tr>\n",
              "    <tr>\n",
              "      <th>234</th>\n",
              "      <td>235</td>\n",
              "      <td>11.6</td>\n",
              "    </tr>\n",
              "    <tr>\n",
              "      <th>235</th>\n",
              "      <td>236</td>\n",
              "      <td>1.8</td>\n",
              "    </tr>\n",
              "  </tbody>\n",
              "</table>\n",
              "<p>236 rows × 2 columns</p>\n",
              "</div>"
            ],
            "text/plain": [
              "    feature  importance\n",
              "0         1        63.8\n",
              "1         2        60.6\n",
              "2         3        27.0\n",
              "3         4        37.6\n",
              "4         5       364.0\n",
              "..      ...         ...\n",
              "231     232        25.4\n",
              "232     233        12.8\n",
              "233     234         1.0\n",
              "234     235        11.6\n",
              "235     236         1.8\n",
              "\n",
              "[236 rows x 2 columns]"
            ]
          },
          "metadata": {},
          "execution_count": 45
        }
      ]
    },
    {
      "cell_type": "code",
      "metadata": {
        "colab": {
          "base_uri": "https://localhost:8080/",
          "height": 355
        },
        "id": "Er9QgOuo_S9p",
        "outputId": "0b22876e-2fec-464e-dcfc-ea6199d799e0"
      },
      "source": [
        "fi_raw.sort_values(by = 'importance', ascending = False).head(10)"
      ],
      "execution_count": null,
      "outputs": [
        {
          "output_type": "execute_result",
          "data": {
            "text/html": [
              "<div>\n",
              "<style scoped>\n",
              "    .dataframe tbody tr th:only-of-type {\n",
              "        vertical-align: middle;\n",
              "    }\n",
              "\n",
              "    .dataframe tbody tr th {\n",
              "        vertical-align: top;\n",
              "    }\n",
              "\n",
              "    .dataframe thead th {\n",
              "        text-align: right;\n",
              "    }\n",
              "</style>\n",
              "<table border=\"1\" class=\"dataframe\">\n",
              "  <thead>\n",
              "    <tr style=\"text-align: right;\">\n",
              "      <th></th>\n",
              "      <th>feature</th>\n",
              "      <th>importance</th>\n",
              "    </tr>\n",
              "  </thead>\n",
              "  <tbody>\n",
              "    <tr>\n",
              "      <th>32</th>\n",
              "      <td>33</td>\n",
              "      <td>757.8</td>\n",
              "    </tr>\n",
              "    <tr>\n",
              "      <th>30</th>\n",
              "      <td>31</td>\n",
              "      <td>708.0</td>\n",
              "    </tr>\n",
              "    <tr>\n",
              "      <th>9</th>\n",
              "      <td>10</td>\n",
              "      <td>706.0</td>\n",
              "    </tr>\n",
              "    <tr>\n",
              "      <th>31</th>\n",
              "      <td>32</td>\n",
              "      <td>684.4</td>\n",
              "    </tr>\n",
              "    <tr>\n",
              "      <th>6</th>\n",
              "      <td>7</td>\n",
              "      <td>584.2</td>\n",
              "    </tr>\n",
              "    <tr>\n",
              "      <th>5</th>\n",
              "      <td>6</td>\n",
              "      <td>572.6</td>\n",
              "    </tr>\n",
              "    <tr>\n",
              "      <th>10</th>\n",
              "      <td>11</td>\n",
              "      <td>561.4</td>\n",
              "    </tr>\n",
              "    <tr>\n",
              "      <th>12</th>\n",
              "      <td>13</td>\n",
              "      <td>559.0</td>\n",
              "    </tr>\n",
              "    <tr>\n",
              "      <th>80</th>\n",
              "      <td>81</td>\n",
              "      <td>513.2</td>\n",
              "    </tr>\n",
              "    <tr>\n",
              "      <th>11</th>\n",
              "      <td>12</td>\n",
              "      <td>490.0</td>\n",
              "    </tr>\n",
              "  </tbody>\n",
              "</table>\n",
              "</div>"
            ],
            "text/plain": [
              "   feature  importance\n",
              "32      33       757.8\n",
              "30      31       708.0\n",
              "9       10       706.0\n",
              "31      32       684.4\n",
              "6        7       584.2\n",
              "5        6       572.6\n",
              "10      11       561.4\n",
              "12      13       559.0\n",
              "80      81       513.2\n",
              "11      12       490.0"
            ]
          },
          "metadata": {},
          "execution_count": 49
        }
      ]
    },
    {
      "cell_type": "code",
      "metadata": {
        "id": "Rxq6mAxm-Zu6"
      },
      "source": [
        "!cp ./lightgbm_merged_ds_result.csv ./drive/MyDrive/MATH4995Project1/"
      ],
      "execution_count": null,
      "outputs": []
    },
    {
      "cell_type": "code",
      "metadata": {
        "id": "s4OvtQlfEKMB"
      },
      "source": [
        "df = pd.DataFrame([lightgbm_first_fold_probs, lightgbm_first_fold_labels])\n",
        "df.T.to_csv(\"lightgbm_application_only_probs_labels.csv\", index = False)"
      ],
      "execution_count": null,
      "outputs": []
    },
    {
      "cell_type": "code",
      "metadata": {
        "id": "rHPMPm9u98Be"
      },
      "source": [
        "df = pd.DataFrame([first_fold_probs, first_fold_labels])\n",
        "df.T.to_csv(\"logistic_application_only_probs_labels.csv\", index = False)"
      ],
      "execution_count": null,
      "outputs": []
    },
    {
      "cell_type": "code",
      "metadata": {
        "colab": {
          "base_uri": "https://localhost:8080/",
          "height": 238
        },
        "id": "sVA4IQlrqlBn",
        "outputId": "1d9f8285-3844-4c98-d823-fc27cdb31f03"
      },
      "source": [
        "metrics_raw"
      ],
      "execution_count": null,
      "outputs": [
        {
          "output_type": "execute_result",
          "data": {
            "text/html": [
              "<div>\n",
              "<style scoped>\n",
              "    .dataframe tbody tr th:only-of-type {\n",
              "        vertical-align: middle;\n",
              "    }\n",
              "\n",
              "    .dataframe tbody tr th {\n",
              "        vertical-align: top;\n",
              "    }\n",
              "\n",
              "    .dataframe thead th {\n",
              "        text-align: right;\n",
              "    }\n",
              "</style>\n",
              "<table border=\"1\" class=\"dataframe\">\n",
              "  <thead>\n",
              "    <tr style=\"text-align: right;\">\n",
              "      <th></th>\n",
              "      <th>fold</th>\n",
              "      <th>train</th>\n",
              "      <th>valid</th>\n",
              "    </tr>\n",
              "  </thead>\n",
              "  <tbody>\n",
              "    <tr>\n",
              "      <th>0</th>\n",
              "      <td>0</td>\n",
              "      <td>0.882380</td>\n",
              "      <td>0.766220</td>\n",
              "    </tr>\n",
              "    <tr>\n",
              "      <th>1</th>\n",
              "      <td>1</td>\n",
              "      <td>0.838974</td>\n",
              "      <td>0.765791</td>\n",
              "    </tr>\n",
              "    <tr>\n",
              "      <th>2</th>\n",
              "      <td>2</td>\n",
              "      <td>0.845340</td>\n",
              "      <td>0.758919</td>\n",
              "    </tr>\n",
              "    <tr>\n",
              "      <th>3</th>\n",
              "      <td>3</td>\n",
              "      <td>0.865095</td>\n",
              "      <td>0.766878</td>\n",
              "    </tr>\n",
              "    <tr>\n",
              "      <th>4</th>\n",
              "      <td>4</td>\n",
              "      <td>0.839506</td>\n",
              "      <td>0.767550</td>\n",
              "    </tr>\n",
              "    <tr>\n",
              "      <th>5</th>\n",
              "      <td>overall</td>\n",
              "      <td>0.854259</td>\n",
              "      <td>0.765033</td>\n",
              "    </tr>\n",
              "  </tbody>\n",
              "</table>\n",
              "</div>"
            ],
            "text/plain": [
              "      fold     train     valid\n",
              "0        0  0.882380  0.766220\n",
              "1        1  0.838974  0.765791\n",
              "2        2  0.845340  0.758919\n",
              "3        3  0.865095  0.766878\n",
              "4        4  0.839506  0.767550\n",
              "5  overall  0.854259  0.765033"
            ]
          },
          "metadata": {},
          "execution_count": 38
        }
      ]
    },
    {
      "cell_type": "code",
      "metadata": {
        "id": "xsxE_-0ygeQN"
      },
      "source": [
        "submission_raw"
      ],
      "execution_count": null,
      "outputs": []
    },
    {
      "cell_type": "code",
      "metadata": {
        "id": "JysfuO8XWrXQ"
      },
      "source": [
        "#submission_for_roc = submission_raw.reset_index()\n",
        "submission_for_roc = \n",
        "\n",
        "submission_labels = submission_for_roc['1']\n",
        "submission_probs = submission_for_roc['0']"
      ],
      "execution_count": null,
      "outputs": []
    },
    {
      "cell_type": "code",
      "metadata": {
        "id": "d5XPSircZPMn",
        "colab": {
          "base_uri": "https://localhost:8080/",
          "height": 1000
        },
        "outputId": "2e843328-954c-441b-f0c0-9c120c6bbc5b"
      },
      "source": [
        "from sklearn.metrics import confusion_matrix, classification_report, precision_score, roc_curve, auc\n",
        "# ROC curve of LightGBM\n",
        "false_pos_rate1, true_pos_rate1, _ = roc_curve(lightgbm_first_fold_labels, lightgbm_first_fold_probs)\n",
        "roc_auc1 = auc(false_pos_rate1, true_pos_rate1)\n",
        "\n",
        "false_pos_rate2, true_pos_rate2, _ = roc_curve(first_fold_labels, first_fold_probs)\n",
        "roc_auc2 = auc(false_pos_rate2, true_pos_rate2)\n",
        "\n",
        "fig1, ax1 = plt.subplots(1, 1, figsize=(16,16))\n",
        "\n",
        "ax1.plot(false_pos_rate1, true_pos_rate1, label='LightGBM ROC curve (area = %0.2f)' % roc_auc1, color='b')\n",
        "\n",
        "ax1.set_title('ROC Curve for LightGBM', fontsize = 20)\n",
        "\n",
        "for ax in fig1.axes:\n",
        "    ax.plot([0, 1], [0, 1], 'k--')\n",
        "    ax.set_xlim([-0.05, 1.0])\n",
        "    ax.set_ylim([0.0, 1.05])\n",
        "    ax.set_xlabel('False Positive Rate', fontsize = 20)\n",
        "    ax.set_ylabel('True Positive Rate', fontsize = 20)\n",
        "    ax.legend(loc=\"lower right\", fontsize = 20)\n",
        "\n",
        "fig2, ax2 = plt.subplots(1, 1, figsize=(16,16))\n",
        "ax2.plot(false_pos_rate2, true_pos_rate2, label='Logistic Reg ROC curve (area = %0.2f)' % roc_auc2, color='b')\n",
        "ax2.set_title('ROC Curve for Logistic Rgression', fontsize = 20)\n",
        "for ax in fig2.axes:\n",
        "    ax.plot([0, 1], [0, 1], 'k--')\n",
        "    ax.set_xlim([-0.05, 1.0])\n",
        "    ax.set_ylim([0.0, 1.05])\n",
        "    ax.set_xlabel('False Positive Rate', fontsize = 20)\n",
        "    ax.set_ylabel('True Positive Rate', fontsize = 20)\n",
        "    ax.legend(loc=\"lower right\", fontsize = 20)"
      ],
      "execution_count": null,
      "outputs": [
        {
          "output_type": "display_data",
          "data": {
            "image/png": "[encoded data removed]",
            "text/plain": [
              "<Figure size 1152x1152 with 1 Axes>"
            ]
          },
          "metadata": {
            "needs_background": "light"
          }
        },
        {
          "output_type": "display_data",
          "data": {
            "image/png": "[encoded data removed]",
            "text/plain": [
              "<Figure size 1152x1152 with 1 Axes>"
            ]
          },
          "metadata": {
            "needs_background": "light"
          }
        }
      ]
    },
    {
      "cell_type": "code",
      "metadata": {
        "id": "ZTF3AdqFVoQz"
      },
      "source": [
        "#!ls"
      ],
      "execution_count": null,
      "outputs": []
    },
    {
      "cell_type": "code",
      "metadata": {
        "id": "GgJySknMVqiY"
      },
      "source": [
        "!mv first_fold_save_shuffled.csv ./drive/MyDrive/MATH4995Project1/\n",
        "!mv first_fold_save_shuffled_change_lr.csv ./drive/MyDrive/MATH4995Project1/"
      ],
      "execution_count": null,
      "outputs": []
    },
    {
      "cell_type": "code",
      "metadata": {
        "id": "-FLpKMyCVyuo"
      },
      "source": [
        "#submission_raw.to_csv(\"lightgbm_v1.csv\", index = False)"
      ],
      "execution_count": null,
      "outputs": []
    },
    {
      "cell_type": "code",
      "metadata": {
        "id": "W3aK3xDjWGxm"
      },
      "source": [
        "#metrics_raw.to_csv(\"lightgbm_v1_metrics_raw.csv\", index = False)"
      ],
      "execution_count": null,
      "outputs": []
    },
    {
      "cell_type": "code",
      "metadata": {
        "id": "Z14CrJ5vWe_q"
      },
      "source": [
        ""
      ],
      "execution_count": null,
      "outputs": []
    }
  ]
}